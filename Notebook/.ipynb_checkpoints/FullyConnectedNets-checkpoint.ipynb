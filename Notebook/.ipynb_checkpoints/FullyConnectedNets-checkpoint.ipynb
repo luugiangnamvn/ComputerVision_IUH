{
 "cells": [
  {
   "cell_type": "markdown",
   "metadata": {
    "id": "5QKqv7me6e4a",
    "tags": [
     "pdf-title"
    ]
   },
   "source": [
    "# Fully-Connected Neural Nets\n",
    "In the previous homework you implemented a fully-connected two-layer neural network on CIFAR-10. The implementation was simple but not very modular since the loss and gradient were computed in a single monolithic function. This is manageable for a simple two-layer network, but would become impractical as we move to bigger models. Ideally we want to build networks using a more modular design so that we can implement different layer types in isolation and then snap them together into models with different architectures."
   ]
  },
  {
   "cell_type": "markdown",
   "metadata": {
    "id": "tNpLWKxl6e4b",
    "tags": [
     "pdf-ignore"
    ]
   },
   "source": [
    "In this exercise we will implement fully-connected networks using a more modular approach. For each layer we will implement a `forward` and a `backward` function. The `forward` function will receive inputs, weights, and other parameters and will return both an output and a `cache` object storing data needed for the backward pass, like this:\n",
    "\n",
    "```python\n",
    "def layer_forward(x, w):\n",
    "  \"\"\" Receive inputs x and weights w \"\"\"\n",
    "  # Do some computations ...\n",
    "  z = # ... some intermediate value\n",
    "  # Do some more computations ...\n",
    "  out = # the output\n",
    "   \n",
    "  cache = (x, w, z, out) # Values we need to compute gradients\n",
    "   \n",
    "  return out, cache\n",
    "```\n",
    "\n",
    "The backward pass will receive upstream derivatives and the `cache` object, and will return gradients with respect to the inputs and weights, like this:\n",
    "\n",
    "```python\n",
    "def layer_backward(dout, cache):\n",
    "  \"\"\"\n",
    "  Receive dout (derivative of loss with respect to outputs) and cache,\n",
    "  and compute derivative with respect to inputs.\n",
    "  \"\"\"\n",
    "  # Unpack cache values\n",
    "  x, w, z, out = cache\n",
    "  \n",
    "  # Use values in cache to compute derivatives\n",
    "  dx = # Derivative of loss with respect to x\n",
    "  dw = # Derivative of loss with respect to w\n",
    "  \n",
    "  return dx, dw\n",
    "```\n",
    "\n",
    "After implementing a bunch of layers this way, we will be able to easily combine them to build classifiers with different architectures.\n",
    "\n",
    "In addition to implementing fully-connected networks of arbitrary depth, we will also explore different update rules for optimization, and introduce Dropout as a regularizer and Batch/Layer Normalization as a tool to more efficiently optimize deep networks.\n",
    "  "
   ]
  },
  {
   "cell_type": "code",
   "execution_count": 1,
   "metadata": {
    "colab": {
     "base_uri": "https://localhost:8080/"
    },
    "executionInfo": {
     "elapsed": 2028,
     "status": "ok",
     "timestamp": 1616352095581,
     "user": {
      "displayName": "Soufian Benamara",
      "photoUrl": "https://lh3.googleusercontent.com/a-/AOh14Gj7-UwGIuLvBwNdi62Q2pMRjoHrgtEm3LZkyGEWZw=s64",
      "userId": "08596286217915945464"
     },
     "user_tz": -60
    },
    "id": "PRBSw5jZ6e4c",
    "outputId": "70cb8989-0c7e-420f-f7be-2be4cfaf3e11",
    "tags": [
     "pdf-ignore"
    ]
   },
   "outputs": [],
   "source": [
    "# As usual, a bit of setup\n",
    "from __future__ import print_function\n",
    "import time\n",
    "import numpy as np\n",
    "import matplotlib.pyplot as plt\n",
    "from cviuh.classifiers.fc_net import *\n",
    "from cviuh.data_utils import get_CIFAR10_data\n",
    "from cviuh.gradient_check import eval_numerical_gradient, eval_numerical_gradient_array\n",
    "from cviuh.solver import Solver\n",
    "\n",
    "%matplotlib inline\n",
    "plt.rcParams['figure.figsize'] = (10.0, 8.0) # set default size of plots\n",
    "plt.rcParams['image.interpolation'] = 'nearest'\n",
    "plt.rcParams['image.cmap'] = 'gray'\n",
    "\n",
    "# for auto-reloading external modules\n",
    "# see http://stackoverflow.com/questions/1907993/autoreload-of-modules-in-ipython\n",
    "%load_ext autoreload\n",
    "%autoreload 2\n",
    "\n",
    "def rel_error(x, y):\n",
    "  \"\"\" returns relative error \"\"\"\n",
    "  return np.max(np.abs(x - y) / (np.maximum(1e-8, np.abs(x) + np.abs(y))))"
   ]
  },
  {
   "cell_type": "code",
   "execution_count": 2,
   "metadata": {
    "colab": {
     "base_uri": "https://localhost:8080/"
    },
    "executionInfo": {
     "elapsed": 6426,
     "status": "ok",
     "timestamp": 1616352104749,
     "user": {
      "displayName": "Soufian Benamara",
      "photoUrl": "https://lh3.googleusercontent.com/a-/AOh14Gj7-UwGIuLvBwNdi62Q2pMRjoHrgtEm3LZkyGEWZw=s64",
      "userId": "08596286217915945464"
     },
     "user_tz": -60
    },
    "id": "N0LMWgTK6e4c",
    "outputId": "86273c83-ec64-4d05-af05-68053e25258f",
    "tags": [
     "pdf-ignore"
    ]
   },
   "outputs": [
    {
     "name": "stdout",
     "output_type": "stream",
     "text": [
      "('X_train: ', (49000, 3, 32, 32))\n",
      "('y_train: ', (49000,))\n",
      "('X_val: ', (1000, 3, 32, 32))\n",
      "('y_val: ', (1000,))\n",
      "('X_test: ', (1000, 3, 32, 32))\n",
      "('y_test: ', (1000,))\n"
     ]
    }
   ],
   "source": [
    "# Load the (preprocessed) CIFAR10 data.\n",
    "\n",
    "data = get_CIFAR10_data()\n",
    "for k, v in list(data.items()):\n",
    "  print(('%s: ' % k, v.shape))"
   ]
  },
  {
   "cell_type": "markdown",
   "metadata": {
    "id": "KTLvACOC6e4d"
   },
   "source": [
    "# Affine layer: forward\n",
    "Open the file `cviuh/layers.py` and implement the `affine_forward` function.\n",
    "\n",
    "Once you are done you can test your implementaion by running the following:"
   ]
  },
  {
   "cell_type": "code",
   "execution_count": 3,
   "metadata": {
    "colab": {
     "base_uri": "https://localhost:8080/"
    },
    "executionInfo": {
     "elapsed": 758,
     "status": "ok",
     "timestamp": 1616352109522,
     "user": {
      "displayName": "Soufian Benamara",
      "photoUrl": "https://lh3.googleusercontent.com/a-/AOh14Gj7-UwGIuLvBwNdi62Q2pMRjoHrgtEm3LZkyGEWZw=s64",
      "userId": "08596286217915945464"
     },
     "user_tz": -60
    },
    "id": "5DbX3bvm6e4d",
    "outputId": "8b8ea0f3-f49f-4ed8-d7f4-a1ecf73757e6"
   },
   "outputs": [
    {
     "name": "stdout",
     "output_type": "stream",
     "text": [
      "Testing affine_forward function:\n",
      "difference:  9.769849468192957e-10\n"
     ]
    }
   ],
   "source": [
    "# Test the affine_forward function\n",
    "\n",
    "num_inputs = 2\n",
    "input_shape = (4, 5, 6)\n",
    "output_dim = 3\n",
    "\n",
    "input_size = num_inputs * np.prod(input_shape)\n",
    "weight_size = output_dim * np.prod(input_shape)\n",
    "\n",
    "x = np.linspace(-0.1, 0.5, num=input_size).reshape(num_inputs, *input_shape)\n",
    "w = np.linspace(-0.2, 0.3, num=weight_size).reshape(np.prod(input_shape), output_dim)\n",
    "b = np.linspace(-0.3, 0.1, num=output_dim)\n",
    "\n",
    "out, _ = affine_forward(x, w, b)\n",
    "correct_out = np.array([[ 1.49834967,  1.70660132,  1.91485297],\n",
    "                        [ 3.25553199,  3.5141327,   3.77273342]])\n",
    "\n",
    "# Compare your output with ours. The error should be around e-9 or less.\n",
    "print('Testing affine_forward function:')\n",
    "print('difference: ', rel_error(out, correct_out))"
   ]
  },
  {
   "cell_type": "markdown",
   "metadata": {
    "id": "KnjPBdAE6e4e"
   },
   "source": [
    "# Affine layer: backward\n",
    "Now implement the `affine_backward` function and test your implementation using numeric gradient checking."
   ]
  },
  {
   "cell_type": "code",
   "execution_count": 4,
   "metadata": {
    "colab": {
     "base_uri": "https://localhost:8080/"
    },
    "executionInfo": {
     "elapsed": 1062,
     "status": "ok",
     "timestamp": 1616343057642,
     "user": {
      "displayName": "Soufian Benamara",
      "photoUrl": "https://lh3.googleusercontent.com/a-/AOh14Gj7-UwGIuLvBwNdi62Q2pMRjoHrgtEm3LZkyGEWZw=s64",
      "userId": "08596286217915945464"
     },
     "user_tz": -60
    },
    "id": "KBkX9RyS6e4e",
    "outputId": "3ae83318-e163-4615-c880-80fc6c961358"
   },
   "outputs": [
    {
     "name": "stdout",
     "output_type": "stream",
     "text": [
      "Testing affine_backward function:\n",
      "dx error:  5.399100368651805e-11\n",
      "dw error:  9.904211865398145e-11\n",
      "db error:  2.4122867568119087e-11\n"
     ]
    }
   ],
   "source": [
    "# Test the affine_backward function\n",
    "np.random.seed(231)\n",
    "x = np.random.randn(10, 2, 3)\n",
    "w = np.random.randn(6, 5)\n",
    "b = np.random.randn(5)\n",
    "dout = np.random.randn(10, 5)\n",
    "\n",
    "dx_num = eval_numerical_gradient_array(lambda x: affine_forward(x, w, b)[0], x, dout)\n",
    "dw_num = eval_numerical_gradient_array(lambda w: affine_forward(x, w, b)[0], w, dout)\n",
    "db_num = eval_numerical_gradient_array(lambda b: affine_forward(x, w, b)[0], b, dout)\n",
    "\n",
    "_, cache = affine_forward(x, w, b)\n",
    "dx, dw, db = affine_backward(dout, cache)\n",
    "\n",
    "# The error should be around e-10 or less\n",
    "print('Testing affine_backward function:')\n",
    "print('dx error: ', rel_error(dx_num, dx))\n",
    "print('dw error: ', rel_error(dw_num, dw))\n",
    "print('db error: ', rel_error(db_num, db))"
   ]
  },
  {
   "cell_type": "markdown",
   "metadata": {
    "id": "UsHcjAaR6e4f"
   },
   "source": [
    "# ReLU activation: forward\n",
    "Implement the forward pass for the ReLU activation function in the `relu_forward` function and test your implementation using the following:"
   ]
  },
  {
   "cell_type": "code",
   "execution_count": 5,
   "metadata": {
    "colab": {
     "base_uri": "https://localhost:8080/"
    },
    "executionInfo": {
     "elapsed": 889,
     "status": "ok",
     "timestamp": 1616343060396,
     "user": {
      "displayName": "Soufian Benamara",
      "photoUrl": "https://lh3.googleusercontent.com/a-/AOh14Gj7-UwGIuLvBwNdi62Q2pMRjoHrgtEm3LZkyGEWZw=s64",
      "userId": "08596286217915945464"
     },
     "user_tz": -60
    },
    "id": "U5v1vyA86e4g",
    "outputId": "93a5405c-d14c-4e64-f5be-3b2290808b85"
   },
   "outputs": [
    {
     "name": "stdout",
     "output_type": "stream",
     "text": [
      "Testing relu_forward function:\n",
      "difference:  4.999999798022158e-08\n"
     ]
    }
   ],
   "source": [
    "# Test the relu_forward function\n",
    "\n",
    "x = np.linspace(-0.5, 0.5, num=12).reshape(3, 4)\n",
    "\n",
    "out, _ = relu_forward(x)\n",
    "correct_out = np.array([[ 0.,          0.,          0.,          0.,        ],\n",
    "                        [ 0.,          0.,          0.04545455,  0.13636364,],\n",
    "                        [ 0.22727273,  0.31818182,  0.40909091,  0.5,       ]])\n",
    "\n",
    "# Compare your output with ours. The error should be on the order of e-8\n",
    "print('Testing relu_forward function:')\n",
    "print('difference: ', rel_error(out, correct_out))"
   ]
  },
  {
   "cell_type": "markdown",
   "metadata": {
    "id": "AhXkZzZB6e4h"
   },
   "source": [
    "# ReLU activation: backward\n",
    "Now implement the backward pass for the ReLU activation function in the `relu_backward` function and test your implementation using numeric gradient checking:"
   ]
  },
  {
   "cell_type": "code",
   "execution_count": 6,
   "metadata": {
    "colab": {
     "base_uri": "https://localhost:8080/"
    },
    "executionInfo": {
     "elapsed": 933,
     "status": "ok",
     "timestamp": 1616343063712,
     "user": {
      "displayName": "Soufian Benamara",
      "photoUrl": "https://lh3.googleusercontent.com/a-/AOh14Gj7-UwGIuLvBwNdi62Q2pMRjoHrgtEm3LZkyGEWZw=s64",
      "userId": "08596286217915945464"
     },
     "user_tz": -60
    },
    "id": "nFvwFIwD6e4i",
    "outputId": "c88a7dce-c1cc-41f4-e335-114489bfbf47"
   },
   "outputs": [
    {
     "name": "stdout",
     "output_type": "stream",
     "text": [
      "Testing relu_backward function:\n",
      "dx error:  3.2756349136310288e-12\n"
     ]
    }
   ],
   "source": [
    "np.random.seed(231)\n",
    "x = np.random.randn(10, 10)\n",
    "dout = np.random.randn(*x.shape)\n",
    "\n",
    "dx_num = eval_numerical_gradient_array(lambda x: relu_forward(x)[0], x, dout)\n",
    "\n",
    "_, cache = relu_forward(x)\n",
    "dx = relu_backward(dout, cache)\n",
    "\n",
    "# The error should be on the order of e-12\n",
    "print('Testing relu_backward function:')\n",
    "print('dx error: ', rel_error(dx_num, dx))"
   ]
  },
  {
   "cell_type": "markdown",
   "metadata": {
    "id": "t3tPd2VH6e4i",
    "tags": [
     "pdf-inline"
    ]
   },
   "source": [
    "## Inline Question 1: \n",
    "\n",
    "We've only asked you to implement ReLU, but there are a number of different activation functions that one could use in neural networks, each with its pros and cons. In particular, an issue commonly seen with activation functions is getting zero (or close to zero) gradient flow during backpropagation. Which of the following activation functions have this problem? If you consider these functions in the one dimensional case, what types of input would lead to this behaviour?\n",
    "1. Sigmoid\n",
    "2. ReLU\n",
    "3. Leaky ReLU\n",
    "\n",
    "## Answer:\n",
    "Activation functions that lead the gradient to get zero (or close to it) are **Sigmoid** and **ReLU**.\n",
    "\n",
    "Note that these activation functions could lead the gradient to zero partially or totally, it depends on the input values.\n",
    "\n",
    "One dimensional input that leads to this behavior:\n",
    "- For the **Sigmoid**: Whatever neuron values will be (positive or negative, small or large), this activation function could lead the gradient to get zero (or close), a.k.a. Vanishing gradients. For that, any \"random\" example is correct, e.g. the input equals $[10, 3, 0.1, -0.05, -1, -5, ...]$.\n",
    "- For the **ReLU**: By its definition, when neuron values are negative, e.g. the input equals $[-0.1, -0.5, -0.7, ...]$."
   ]
  },
  {
   "cell_type": "markdown",
   "metadata": {
    "id": "ARlWkAkk6e4j"
   },
   "source": [
    "# \"Sandwich\" layers\n",
    "There are some common patterns of layers that are frequently used in neural nets. For example, affine layers are frequently followed by a ReLU nonlinearity. To make these common patterns easy, we define several convenience layers in the file `cviuh/layer_utils.py`.\n",
    "\n",
    "For now take a look at the `affine_relu_forward` and `affine_relu_backward` functions, and run the following to numerically gradient check the backward pass:"
   ]
  },
  {
   "cell_type": "code",
   "execution_count": 7,
   "metadata": {
    "colab": {
     "base_uri": "https://localhost:8080/"
    },
    "executionInfo": {
     "elapsed": 897,
     "status": "ok",
     "timestamp": 1616343069123,
     "user": {
      "displayName": "Soufian Benamara",
      "photoUrl": "https://lh3.googleusercontent.com/a-/AOh14Gj7-UwGIuLvBwNdi62Q2pMRjoHrgtEm3LZkyGEWZw=s64",
      "userId": "08596286217915945464"
     },
     "user_tz": -60
    },
    "id": "nnIfVpCq6e4j",
    "outputId": "13adc039-0aac-4686-e6fa-0fc9518c0e31"
   },
   "outputs": [
    {
     "name": "stdout",
     "output_type": "stream",
     "text": [
      "Testing affine_relu_forward and affine_relu_backward:\n",
      "dx error:  2.299579177309368e-11\n",
      "dw error:  8.162011105764925e-11\n",
      "db error:  7.826724021458994e-12\n"
     ]
    }
   ],
   "source": [
    "from cviuh.layer_utils import affine_relu_forward, affine_relu_backward\n",
    "np.random.seed(231)\n",
    "x = np.random.randn(2, 3, 4)\n",
    "w = np.random.randn(12, 10)\n",
    "b = np.random.randn(10)\n",
    "dout = np.random.randn(2, 10)\n",
    "\n",
    "out, cache = affine_relu_forward(x, w, b)\n",
    "dx, dw, db = affine_relu_backward(dout, cache)\n",
    "\n",
    "dx_num = eval_numerical_gradient_array(lambda x: affine_relu_forward(x, w, b)[0], x, dout)\n",
    "dw_num = eval_numerical_gradient_array(lambda w: affine_relu_forward(x, w, b)[0], w, dout)\n",
    "db_num = eval_numerical_gradient_array(lambda b: affine_relu_forward(x, w, b)[0], b, dout)\n",
    "\n",
    "# Relative error should be around e-10 or less\n",
    "print('Testing affine_relu_forward and affine_relu_backward:')\n",
    "print('dx error: ', rel_error(dx_num, dx))\n",
    "print('dw error: ', rel_error(dw_num, dw))\n",
    "print('db error: ', rel_error(db_num, db))"
   ]
  },
  {
   "cell_type": "markdown",
   "metadata": {
    "id": "SK-h9CRz6e4j"
   },
   "source": [
    "# Loss layers: Softmax and SVM\n",
    "You implemented these loss functions in the last assignment, so we'll give them to you for free here. You should still make sure you understand how they work by looking at the implementations in `cviuh/layers.py`.\n",
    "\n",
    "You can make sure that the implementations are correct by running the following:"
   ]
  },
  {
   "cell_type": "code",
   "execution_count": 8,
   "metadata": {
    "colab": {
     "base_uri": "https://localhost:8080/"
    },
    "executionInfo": {
     "elapsed": 885,
     "status": "ok",
     "timestamp": 1616343072688,
     "user": {
      "displayName": "Soufian Benamara",
      "photoUrl": "https://lh3.googleusercontent.com/a-/AOh14Gj7-UwGIuLvBwNdi62Q2pMRjoHrgtEm3LZkyGEWZw=s64",
      "userId": "08596286217915945464"
     },
     "user_tz": -60
    },
    "id": "Nrop5UXF6e4k",
    "outputId": "6ebb06e1-e87b-4b47-9762-6566d9c3ac16"
   },
   "outputs": [
    {
     "name": "stdout",
     "output_type": "stream",
     "text": [
      "Testing svm_loss:\n",
      "loss:  8.999602749096233\n",
      "dx error:  1.4021566006651672e-09\n",
      "\n",
      "Testing softmax_loss:\n",
      "loss:  2.302545844500738\n",
      "dx error:  9.384673161989355e-09\n"
     ]
    }
   ],
   "source": [
    "np.random.seed(231)\n",
    "num_classes, num_inputs = 10, 50\n",
    "x = 0.001 * np.random.randn(num_inputs, num_classes)\n",
    "y = np.random.randint(num_classes, size=num_inputs)\n",
    "\n",
    "dx_num = eval_numerical_gradient(lambda x: svm_loss(x, y)[0], x, verbose=False)\n",
    "loss, dx = svm_loss(x, y)\n",
    "\n",
    "# Test svm_loss function. Loss should be around 9 and dx error should be around the order of e-9\n",
    "print('Testing svm_loss:')\n",
    "print('loss: ', loss)\n",
    "print('dx error: ', rel_error(dx_num, dx))\n",
    "\n",
    "dx_num = eval_numerical_gradient(lambda x: softmax_loss(x, y)[0], x, verbose=False)\n",
    "loss, dx = softmax_loss(x, y)\n",
    "\n",
    "# Test softmax_loss function. Loss should be close to 2.3 and dx error should be around e-8\n",
    "print('\\nTesting softmax_loss:')\n",
    "print('loss: ', loss)\n",
    "print('dx error: ', rel_error(dx_num, dx))"
   ]
  },
  {
   "cell_type": "markdown",
   "metadata": {
    "id": "A9uMrfou6e4l"
   },
   "source": [
    "# Two-layer network\n",
    "In the previous assignment you implemented a two-layer neural network in a single monolithic class. Now that you have implemented modular versions of the necessary layers, you will reimplement the two layer network using these modular implementations.\n",
    "\n",
    "Open the file `cviuh/classifiers/fc_net.py` and complete the implementation of the `TwoLayerNet` class. This class will serve as a model for the other networks you will implement in this assignment, so read through it to make sure you understand the API. You can run the cell below to test your implementation."
   ]
  },
  {
   "cell_type": "code",
   "execution_count": 9,
   "metadata": {
    "colab": {
     "base_uri": "https://localhost:8080/"
    },
    "executionInfo": {
     "elapsed": 1221,
     "status": "ok",
     "timestamp": 1616343079234,
     "user": {
      "displayName": "Soufian Benamara",
      "photoUrl": "https://lh3.googleusercontent.com/a-/AOh14Gj7-UwGIuLvBwNdi62Q2pMRjoHrgtEm3LZkyGEWZw=s64",
      "userId": "08596286217915945464"
     },
     "user_tz": -60
    },
    "id": "n05qKD9K6e4m",
    "outputId": "cdcca0d7-2d36-44a8-da13-5286523ec855"
   },
   "outputs": [
    {
     "name": "stdout",
     "output_type": "stream",
     "text": [
      "Testing initialization ... \n",
      "Testing test-time forward pass ... \n",
      "Testing training loss (no regularization)\n",
      "Running numeric gradient check with reg =  0.0\n",
      "W1 relative error: 1.83e-08\n",
      "W2 relative error: 3.12e-10\n",
      "b1 relative error: 9.83e-09\n",
      "b2 relative error: 4.33e-10\n",
      "Running numeric gradient check with reg =  0.7\n",
      "W1 relative error: 2.53e-07\n",
      "W2 relative error: 2.85e-08\n",
      "b1 relative error: 1.56e-08\n",
      "b2 relative error: 7.76e-10\n"
     ]
    }
   ],
   "source": [
    "np.random.seed(231)\n",
    "N, D, H, C = 3, 5, 50, 7\n",
    "X = np.random.randn(N, D)\n",
    "y = np.random.randint(C, size=N)\n",
    "\n",
    "std = 1e-3\n",
    "model = TwoLayerNet(input_dim=D, hidden_dim=H, num_classes=C, weight_scale=std)\n",
    "\n",
    "print('Testing initialization ... ')\n",
    "W1_std = abs(model.params['W1'].std() - std)\n",
    "b1 = model.params['b1']\n",
    "W2_std = abs(model.params['W2'].std() - std)\n",
    "b2 = model.params['b2']\n",
    "assert W1_std < std / 10, 'First layer weights do not seem right'\n",
    "assert np.all(b1 == 0), 'First layer biases do not seem right'\n",
    "assert W2_std < std / 10, 'Second layer weights do not seem right'\n",
    "assert np.all(b2 == 0), 'Second layer biases do not seem right'\n",
    "\n",
    "print('Testing test-time forward pass ... ')\n",
    "model.params['W1'] = np.linspace(-0.7, 0.3, num=D*H).reshape(D, H)\n",
    "model.params['b1'] = np.linspace(-0.1, 0.9, num=H)\n",
    "model.params['W2'] = np.linspace(-0.3, 0.4, num=H*C).reshape(H, C)\n",
    "model.params['b2'] = np.linspace(-0.9, 0.1, num=C)\n",
    "X = np.linspace(-5.5, 4.5, num=N*D).reshape(D, N).T\n",
    "scores = model.loss(X)\n",
    "correct_scores = np.asarray(\n",
    "  [[11.53165108,  12.2917344,   13.05181771,  13.81190102,  14.57198434, 15.33206765,  16.09215096],\n",
    "   [12.05769098,  12.74614105,  13.43459113,  14.1230412,   14.81149128, 15.49994135,  16.18839143],\n",
    "   [12.58373087,  13.20054771,  13.81736455,  14.43418138,  15.05099822, 15.66781506,  16.2846319 ]])\n",
    "scores_diff = np.abs(scores - correct_scores).sum()\n",
    "assert scores_diff < 1e-6, 'Problem with test-time forward pass'\n",
    "\n",
    "print('Testing training loss (no regularization)')\n",
    "y = np.asarray([0, 5, 1])\n",
    "loss, grads = model.loss(X, y)\n",
    "correct_loss = 3.4702243556\n",
    "assert abs(loss - correct_loss) < 1e-10, 'Problem with training-time loss'\n",
    "\n",
    "model.reg = 1.0\n",
    "loss, grads = model.loss(X, y)\n",
    "correct_loss = 26.5948426952\n",
    "assert abs(loss - correct_loss) < 1e-10, 'Problem with regularization loss'\n",
    "\n",
    "# Errors should be around e-7 or less\n",
    "for reg in [0.0, 0.7]:\n",
    "  print('Running numeric gradient check with reg = ', reg)\n",
    "  model.reg = reg\n",
    "  loss, grads = model.loss(X, y)\n",
    "\n",
    "  for name in sorted(grads):\n",
    "    f = lambda _: model.loss(X, y)[0]\n",
    "    grad_num = eval_numerical_gradient(f, model.params[name], verbose=False)\n",
    "    print('%s relative error: %.2e' % (name, rel_error(grad_num, grads[name])))"
   ]
  },
  {
   "cell_type": "markdown",
   "metadata": {
    "id": "tIdex2q56e4n"
   },
   "source": [
    "# Solver\n",
    "In the previous assignment, the logic for training models was coupled to the models themselves. Following a more modular design, for this assignment we have split the logic for training models into a separate class.\n",
    "\n",
    "Open the file `cviuh/solver.py` and read through it to familiarize yourself with the API. After doing so, use a `Solver` instance to train a `TwoLayerNet` that achieves at least `50%` accuracy on the validation set."
   ]
  },
  {
   "cell_type": "code",
   "execution_count": 10,
   "metadata": {
    "colab": {
     "base_uri": "https://localhost:8080/"
    },
    "executionInfo": {
     "elapsed": 715226,
     "status": "ok",
     "timestamp": 1612461885396,
     "user": {
      "displayName": "Soufian Benamara",
      "photoUrl": "https://lh3.googleusercontent.com/a-/AOh14Gj7-UwGIuLvBwNdi62Q2pMRjoHrgtEm3LZkyGEWZw=s64",
      "userId": "08596286217915945464"
     },
     "user_tz": -60
    },
    "id": "tln_solver_accuracy",
    "outputId": "7a39f8c3-b236-48b8-c348-f940daa1bef6"
   },
   "outputs": [
    {
     "name": "stdout",
     "output_type": "stream",
     "text": [
      " 1) lr = 5.62e-04 | reg = 1.284 | hidden_dim = 188 | epochs = 14 | Accuracy = 0.5280\n",
      " 2) lr = 4.86e-04 | reg = 1.820 | hidden_dim = 162 | epochs = 16 | Accuracy = 0.5140\n",
      " 3) lr = 5.48e-04 | reg = 1.213 | hidden_dim = 160 | epochs = 13 | Accuracy = 0.5130\n",
      " 4) lr = 4.59e-04 | reg = 1.442 | hidden_dim = 114 | epochs = 17 | Accuracy = 0.5170\n",
      " 5) lr = 4.67e-04 | reg = 1.912 | hidden_dim = 198 | epochs = 11 | Accuracy = 0.5020\n",
      "\n",
      "Best solver accuracy on the validation set is: 0.5280\n"
     ]
    }
   ],
   "source": [
    "model = TwoLayerNet()\n",
    "solver = None\n",
    "\n",
    "##############################################################################\n",
    "# Use a Solver instance to train a TwoLayerNet that achieves at least        #\n",
    "# 50% accuracy on the validation set.                                        #\n",
    "##############################################################################\n",
    "\n",
    "# As explained in the course lectures, random search is a better strategy for\n",
    "# hyperparameters tuning than the grid search.\n",
    "def params_random_values(lr_range, reg_range, hidden_dim_range, epochs_range):\n",
    "  lr = np.random.uniform(*lr_range)\n",
    "  reg = np.random.uniform(*reg_range)\n",
    "  hidden_dim = np.random.randint(*hidden_dim_range)\n",
    "  epochs = np.random.randint(*epochs_range)\n",
    "\n",
    "  return lr, reg, hidden_dim, epochs\n",
    "\n",
    "# Define parameter values ranges for random search.\n",
    "# Note that these ranges were adjusted during tests.\n",
    "lr_range = (3e-4, 6e-4)\n",
    "reg_range = (1, 2)\n",
    "hidden_dim_range = (100, 200)\n",
    "epochs_range = (10, 20)\n",
    "\n",
    "# Generate 5 random parameter values combinations.\n",
    "# Note that combinations number was adjusted during tests.\n",
    "test_params_values = []\n",
    "for _ in range(5):\n",
    "  curr_comb = params_random_values(lr_range, reg_range, hidden_dim_range, epochs_range)\n",
    "  test_params_values.append(curr_comb)\n",
    "\n",
    "# Keep track of the best solver (such with the highest validation accuracy) during tests.\n",
    "best_accuracy, best_solver = 0.0, None\n",
    "\n",
    "# Test each combination.\n",
    "for idx, params_value in enumerate(test_params_values):\n",
    "  lr, reg, hidden_dim, epochs = params_value\n",
    "\n",
    "  model = TwoLayerNet(reg=reg, hidden_dim=hidden_dim)\n",
    "  solver = Solver(model, data,\n",
    "                  update_rule='sgd',\n",
    "                  optim_config={'learning_rate': lr},\n",
    "                  lr_decay=0.9, num_epochs=epochs,\n",
    "                  batch_size=100, verbose=False)\n",
    "\n",
    "  solver.train()\n",
    "\n",
    "  print('%2d) lr = %.2e | reg = %.3f | hidden_dim = %3d | epochs = %2d | ' \n",
    "        % (idx+1, *params_value) + 'Accuracy = %.4f' % solver.best_val_acc)\n",
    "\n",
    "  if solver.best_val_acc > best_accuracy:\n",
    "    best_accuracy = solver.best_val_acc\n",
    "    best_solver = solver\n",
    "\n",
    "# Mark the best solver as the main one.\n",
    "solver = best_solver\n",
    "\n",
    "print('\\nBest solver accuracy on the validation set is: %.4f' % solver.best_val_acc)\n"
   ]
  },
  {
   "cell_type": "code",
   "execution_count": 11,
   "metadata": {
    "colab": {
     "base_uri": "https://localhost:8080/",
     "height": 730
    },
    "executionInfo": {
     "elapsed": 1065,
     "status": "ok",
     "timestamp": 1612461937263,
     "user": {
      "displayName": "Soufian Benamara",
      "photoUrl": "https://lh3.googleusercontent.com/a-/AOh14Gj7-UwGIuLvBwNdi62Q2pMRjoHrgtEm3LZkyGEWZw=s64",
      "userId": "08596286217915945464"
     },
     "user_tz": -60
    },
    "id": "KpUtXsgI6e4o",
    "outputId": "847048ab-9b1d-4f67-c5db-f0f9f02e16b4"
   },
   "outputs": [
    {
     "data": {
      "image/png": "[encoded data removed]",
      "text/plain": [
       "<Figure size 1080x864 with 2 Axes>"
      ]
     },
     "metadata": {
      "needs_background": "light"
     },
     "output_type": "display_data"
    }
   ],
   "source": [
    "# Run this cell to visualize training loss and train / val accuracy\n",
    "\n",
    "plt.subplot(2, 1, 1)\n",
    "plt.title('Training loss')\n",
    "plt.plot(solver.loss_history, 'o')\n",
    "plt.xlabel('Iteration')\n",
    "\n",
    "plt.subplot(2, 1, 2)\n",
    "plt.title('Accuracy')\n",
    "plt.plot(solver.train_acc_history, '-o', label='train')\n",
    "plt.plot(solver.val_acc_history, '-o', label='val')\n",
    "plt.plot([0.5] * len(solver.val_acc_history), 'k--')\n",
    "plt.xlabel('Epoch')\n",
    "plt.legend(loc='lower right')\n",
    "plt.gcf().set_size_inches(15, 12)\n",
    "plt.show()"
   ]
  },
  {
   "cell_type": "markdown",
   "metadata": {
    "id": "XYhloSR86e4p"
   },
   "source": [
    "# Multilayer network\n",
    "Next you will implement a fully-connected network with an arbitrary number of hidden layers.\n",
    "\n",
    "Read through the `FullyConnectedNet` class in the file `cviuh/classifiers/fc_net.py`.\n",
    "\n",
    "Implement the initialization, the forward pass, and the backward pass. For the moment don't worry about implementing dropout or batch/layer normalization; we will add those features soon."
   ]
  },
  {
   "cell_type": "markdown",
   "metadata": {
    "id": "BQbU47MT6e4p"
   },
   "source": [
    "## Initial loss and gradient check\n",
    "\n",
    "As a sanity check, run the following to check the initial loss and to gradient check the network both with and without regularization. Do the initial losses seem reasonable?\n",
    "\n",
    "For gradient checking, you should expect to see errors around 1e-7 or less."
   ]
  },
  {
   "cell_type": "code",
   "execution_count": 12,
   "metadata": {
    "colab": {
     "base_uri": "https://localhost:8080/"
    },
    "executionInfo": {
     "elapsed": 2607,
     "status": "ok",
     "timestamp": 1616343131816,
     "user": {
      "displayName": "Soufian Benamara",
      "photoUrl": "https://lh3.googleusercontent.com/a-/AOh14Gj7-UwGIuLvBwNdi62Q2pMRjoHrgtEm3LZkyGEWZw=s64",
      "userId": "08596286217915945464"
     },
     "user_tz": -60
    },
    "id": "cdH0FRuk6e4q",
    "outputId": "223727e5-82ab-4e68-8b23-8afa9cef6015"
   },
   "outputs": [
    {
     "name": "stdout",
     "output_type": "stream",
     "text": [
      "Running check with reg =  0\n",
      "Initial loss:  2.3004790897684924\n",
      "W1 relative error: 1.48e-07\n",
      "W2 relative error: 2.21e-05\n",
      "W3 relative error: 3.53e-07\n",
      "b1 relative error: 5.38e-09\n",
      "b2 relative error: 2.09e-09\n",
      "b3 relative error: 5.80e-11\n",
      "Running check with reg =  3.14\n",
      "Initial loss:  7.052114776533016\n",
      "W1 relative error: 6.86e-09\n",
      "W2 relative error: 3.52e-08\n",
      "W3 relative error: 1.32e-08\n",
      "b1 relative error: 1.48e-08\n",
      "b2 relative error: 1.72e-09\n",
      "b3 relative error: 1.80e-10\n"
     ]
    }
   ],
   "source": [
    "np.random.seed(231)\n",
    "N, D, H1, H2, C = 2, 15, 20, 30, 10\n",
    "X = np.random.randn(N, D)\n",
    "y = np.random.randint(C, size=(N,))\n",
    "\n",
    "for reg in [0, 3.14]:\n",
    "  print('Running check with reg = ', reg)\n",
    "  model = FullyConnectedNet([H1, H2], input_dim=D, num_classes=C,\n",
    "                            reg=reg, weight_scale=5e-2, dtype=np.float64)\n",
    "\n",
    "  loss, grads = model.loss(X, y)\n",
    "  print('Initial loss: ', loss)\n",
    "  \n",
    "  # Most of the errors should be on the order of e-7 or smaller.   \n",
    "  # NOTE: It is fine however to see an error for W2 on the order of e-5\n",
    "  # for the check when reg = 0.0\n",
    "  for name in sorted(grads):\n",
    "    f = lambda _: model.loss(X, y)[0]\n",
    "    grad_num = eval_numerical_gradient(f, model.params[name], verbose=False, h=1e-5)\n",
    "    print('%s relative error: %.2e' % (name, rel_error(grad_num, grads[name])))"
   ]
  },
  {
   "cell_type": "markdown",
   "metadata": {
    "id": "Sr-8mTZo6e4q"
   },
   "source": [
    "As another sanity check, make sure you can overfit a small dataset of 50 images. First we will try a three-layer network with 100 units in each hidden layer. In the following cell, tweak the **learning rate** and **weight initialization scale** to overfit and achieve 100% training accuracy within 20 epochs."
   ]
  },
  {
   "cell_type": "code",
   "execution_count": 13,
   "metadata": {
    "colab": {
     "base_uri": "https://localhost:8080/",
     "height": 713
    },
    "executionInfo": {
     "elapsed": 15088,
     "status": "ok",
     "timestamp": 1616344360609,
     "user": {
      "displayName": "Soufian Benamara",
      "photoUrl": "https://lh3.googleusercontent.com/a-/AOh14Gj7-UwGIuLvBwNdi62Q2pMRjoHrgtEm3LZkyGEWZw=s64",
      "userId": "08596286217915945464"
     },
     "user_tz": -60
    },
    "id": "s2kyKTaT6e4s",
    "outputId": "7953b900-4db6-47a3-aba9-6fdb554f8677",
    "scrolled": false
   },
   "outputs": [
    {
     "name": "stdout",
     "output_type": "stream",
     "text": [
      " 1) weight_scale = 9.45e-03 | learning_rate = 7.70e-03 | Accuracy = 0.7400\n",
      " 2) weight_scale = 9.56e-03 | learning_rate = 8.69e-03 | Accuracy = 1.0000\n",
      " 3) weight_scale = 9.91e-03 | learning_rate = 8.71e-03 | Accuracy = 1.0000\n",
      " 4) weight_scale = 9.33e-03 | learning_rate = 8.99e-03 | Accuracy = 0.9800\n",
      " 5) weight_scale = 9.85e-03 | learning_rate = 8.38e-03 | Accuracy = 0.9200\n",
      " 6) weight_scale = 9.41e-03 | learning_rate = 7.16e-03 | Accuracy = 0.7800\n",
      " 7) weight_scale = 9.89e-03 | learning_rate = 8.75e-03 | Accuracy = 1.0000\n",
      " 8) weight_scale = 9.11e-03 | learning_rate = 7.04e-03 | Accuracy = 0.9600\n",
      " 9) weight_scale = 9.18e-03 | learning_rate = 8.03e-03 | Accuracy = 0.9600\n",
      "10) weight_scale = 9.77e-03 | learning_rate = 8.87e-03 | Accuracy = 0.9400\n",
      "\n",
      "Best solver accuracy on the train set is: 1.0000\n"
     ]
    },
    {
     "data": {
      "image/png": "[encoded data removed]",
      "text/plain": [
       "<Figure size 720x576 with 1 Axes>"
      ]
     },
     "metadata": {
      "needs_background": "light"
     },
     "output_type": "display_data"
    }
   ],
   "source": [
    "# Use a three-layer Net to overfit 50 training examples by \n",
    "# tweaking just the learning rate and initialization scale.\n",
    "\n",
    "num_train = 50\n",
    "small_data = {\n",
    "  'X_train': data['X_train'][:num_train],\n",
    "  'y_train': data['y_train'][:num_train],\n",
    "  'X_val': data['X_val'],\n",
    "  'y_val': data['y_val'],\n",
    "}\n",
    "\n",
    "best_accuracy, best_solver = 0.0, None\n",
    "\n",
    "# Generate 10 random values of 'weight_scale' and 'learning_rate'.\n",
    "# Note that the range (for both hyperparameters) was adjusted during tests.\n",
    "num_combinations = 10\n",
    "\n",
    "weight_scale_values = np.random.uniform(9e-3, 1e-2, num_combinations)\n",
    "learning_rate_values = np.random.uniform(7e-3, 9e-3, num_combinations)\n",
    "\n",
    "for idx in range(num_combinations):\n",
    "  weight_scale = weight_scale_values[idx]\n",
    "  learning_rate = learning_rate_values[idx]\n",
    "\n",
    "  model = FullyConnectedNet([100, 100],\n",
    "                weight_scale=weight_scale, dtype=np.float64)\n",
    "  solver = Solver(model, small_data,\n",
    "                  print_every=10, num_epochs=20, batch_size=25,\n",
    "                  update_rule='sgd',\n",
    "                  optim_config={\n",
    "                    'learning_rate': learning_rate,\n",
    "                  },\n",
    "                  verbose=False\n",
    "          )\n",
    "  \n",
    "  solver.train()\n",
    "\n",
    "  train_acc = solver.check_accuracy(small_data['X_train'], small_data['y_train'],\n",
    "                                    batch_size=num_train)\n",
    "\n",
    "  print('%2d) weight_scale = %.2e | learning_rate = %.2e ' % (idx+1, weight_scale, learning_rate) +\n",
    "        '| Accuracy = %.4f' % train_acc)\n",
    "\n",
    "  if train_acc > best_accuracy:\n",
    "    best_accuracy = train_acc\n",
    "    best_solver = solver\n",
    "\n",
    "solver = best_solver\n",
    "print('\\nBest solver accuracy on the train set is: %.4f' % best_accuracy)\n",
    "\n",
    "plt.plot(solver.loss_history, 'o')\n",
    "plt.title('Training loss history')\n",
    "plt.xlabel('Iteration')\n",
    "plt.ylabel('Training loss')\n",
    "plt.show()"
   ]
  },
  {
   "cell_type": "markdown",
   "metadata": {
    "id": "m2IfmatP6e4s"
   },
   "source": [
    "Now try to use a five-layer network with 100 units on each layer to overfit 50 training examples. Again, you will have to adjust the learning rate and weight initialization scale, but you should be able to achieve 100% training accuracy within 20 epochs."
   ]
  },
  {
   "cell_type": "code",
   "execution_count": 14,
   "metadata": {
    "colab": {
     "base_uri": "https://localhost:8080/",
     "height": 713
    },
    "executionInfo": {
     "elapsed": 16976,
     "status": "ok",
     "timestamp": 1616343890741,
     "user": {
      "displayName": "Soufian Benamara",
      "photoUrl": "https://lh3.googleusercontent.com/a-/AOh14Gj7-UwGIuLvBwNdi62Q2pMRjoHrgtEm3LZkyGEWZw=s64",
      "userId": "08596286217915945464"
     },
     "user_tz": -60
    },
    "id": "XKrICJRn6e4s",
    "outputId": "e5c09acf-2fc0-4ef5-d144-9044f31534fb"
   },
   "outputs": [
    {
     "name": "stdout",
     "output_type": "stream",
     "text": [
      " 1) weight_scale = 9.70e-02 | learning_rate = 2.60e-03 | Accuracy = 0.5400\n",
      " 2) weight_scale = 9.76e-02 | learning_rate = 2.16e-03 | Accuracy = 0.8400\n",
      " 3) weight_scale = 9.96e-02 | learning_rate = 3.60e-03 | Accuracy = 0.6600\n",
      " 4) weight_scale = 9.15e-02 | learning_rate = 1.12e-03 | Accuracy = 0.7800\n",
      " 5) weight_scale = 9.04e-02 | learning_rate = 2.59e-03 | Accuracy = 1.0000\n",
      " 6) weight_scale = 9.81e-02 | learning_rate = 2.61e-03 | Accuracy = 1.0000\n"
     ]
    },
    {
     "name": "stderr",
     "output_type": "stream",
     "text": [
      "E:\\IUH_Dạy\\Giảng dạy\\Computer_Vision\\Lab\\ComputerVision_IUH\\Notebook\\Lab4\\cviuh\\layers.py:36: RuntimeWarning: overflow encountered in matmul\n",
      "  out = x_input @ w + b\n",
      "E:\\IUH_Dạy\\Giảng dạy\\Computer_Vision\\Lab\\ComputerVision_IUH\\Notebook\\Lab4\\cviuh\\layers.py:1207: RuntimeWarning: invalid value encountered in subtract\n",
      "  shifted_logits = x - np.max(x, axis=1, keepdims=True)\n"
     ]
    },
    {
     "name": "stdout",
     "output_type": "stream",
     "text": [
      " 7) weight_scale = 9.69e-02 | learning_rate = 3.88e-03 | Accuracy = 0.1200\n",
      " 8) weight_scale = 9.41e-02 | learning_rate = 2.91e-03 | Accuracy = 0.5000\n",
      " 9) weight_scale = 9.87e-02 | learning_rate = 1.01e-03 | Accuracy = 0.9600\n",
      "10) weight_scale = 9.80e-02 | learning_rate = 3.98e-03 | Accuracy = 0.9200\n",
      "\n",
      "Best solver accuracy on the train set is: 1.0000\n"
     ]
    },
    {
     "data": {
      "image/png": "[encoded data removed]",
      "text/plain": [
       "<Figure size 720x576 with 1 Axes>"
      ]
     },
     "metadata": {
      "needs_background": "light"
     },
     "output_type": "display_data"
    }
   ],
   "source": [
    "# Use a five-layer Net to overfit 50 training examples by \n",
    "# tweaking just the learning rate and initialization scale.\n",
    "\n",
    "num_train = 50\n",
    "small_data = {\n",
    "  'X_train': data['X_train'][:num_train],\n",
    "  'y_train': data['y_train'][:num_train],\n",
    "  'X_val': data['X_val'],\n",
    "  'y_val': data['y_val'],\n",
    "}\n",
    "\n",
    "best_accuracy, best_solver = 0.0, None\n",
    "\n",
    "# Generate 10 random values of 'weight_scale' and 'learning_rate'.\n",
    "# Note that the range (for both hyperparameters) was adjusted during tests.\n",
    "num_combinations = 10\n",
    "\n",
    "weight_scale_values = np.random.uniform(9e-2, 1e-1, num_combinations)\n",
    "learning_rate_values = np.random.uniform(1e-3, 4e-3, num_combinations)\n",
    "\n",
    "for idx in range(num_combinations):\n",
    "  weight_scale = weight_scale_values[idx]\n",
    "  learning_rate = learning_rate_values[idx]\n",
    "\n",
    "  model = FullyConnectedNet([100, 100, 100, 100],\n",
    "                  weight_scale=weight_scale, dtype=np.float64)\n",
    "  solver = Solver(model, small_data,\n",
    "                  print_every=10, num_epochs=20, batch_size=25,\n",
    "                  update_rule='sgd',\n",
    "                  optim_config={\n",
    "                    'learning_rate': learning_rate,\n",
    "                  },\n",
    "                  verbose=False\n",
    "          )\n",
    "  \n",
    "  solver.train()\n",
    "\n",
    "  train_acc = solver.check_accuracy(small_data['X_train'], small_data['y_train'],\n",
    "                                    batch_size=num_train)\n",
    "\n",
    "  print('%2d) weight_scale = %.2e | learning_rate = %.2e ' % (idx+1, weight_scale, learning_rate) +\n",
    "        '| Accuracy = %.4f' % train_acc)\n",
    "\n",
    "  if train_acc > best_accuracy:\n",
    "    best_accuracy = train_acc\n",
    "    best_solver = solver\n",
    "\n",
    "solver = best_solver\n",
    "print('\\nBest solver accuracy on the train set is: %.4f' % best_accuracy)\n",
    "\n",
    "plt.plot(solver.loss_history, 'o')\n",
    "plt.title('Training loss history')\n",
    "plt.xlabel('Iteration')\n",
    "plt.ylabel('Training loss')\n",
    "plt.show()"
   ]
  },
  {
   "cell_type": "markdown",
   "metadata": {
    "id": "TiAXbzA16e4-",
    "tags": [
     "pdf-inline"
    ]
   },
   "source": [
    "## Inline Question 2: \n",
    "Did you notice anything about the comparative difficulty of training the three-layer net vs training the five layer net? In particular, based on your experience, which network seemed more sensitive to the initialization scale? Why do you think that is the case?\n",
    "\n",
    "## Answer:\n",
    "I run some tests on a range of the `weight_scale` parameter, from `1e-5` to `5e-1`. For the `learning_rate`, I picked the best one which allows overfitting a small dataset (individual for both **3-Layer** and **5-Layer** Nets). Results (validation accuracies) are shown in the table below.\n",
    "\n",
    "|        Weight scale        | 1e-5 | 5e-5 | 1e-4 | 5e-4 | 1e-3 | 5e-3 | 1e-2 | 5e-2 | 1e-1 | 5e-1 |\n",
    "|:--------------------------:|:----:|:----:|:----:|:----:|:----:|:----:|:----:|:----:|:----:|:----:|\n",
    "|  3-Layer Net (lr=7.44e-03) | 0.16 | 0.12 | 0.10 | 0.10 | 0.16 | 0.72 | 0.98 | 0.40 | 0.12 | 0.16 |\n",
    "|  5-Layer Net (lr=2.00e-03) | 0.16 | 0.16 | 0.12 | 0.16 | 0.16 | 0.18 | 0.18 | 0.98 | 0.78 |   -  |\n",
    "\n",
    "From the table above, we cannot decide which network is more sensitive to the initialization scale. Thus, we have to analyze the evolution of the loss (in the two graphs above).\n",
    "\n",
    "From the two graphs above, we notice that the **5-Layer Net** is more difficult to train, because the loss decreases quickly. For that, the **5-Layer Net** is more sensitive to the initialization scale. That's due to the fact that the **5-Layer Net** has more layers, which can lead (in the worst scenario) to one of the two cases:\n",
    "- The **low** (e.g. 1e-4) init scale can lead to the **vanishing gradients** problem, as we multiply by **small values** in the backpropgation.\n",
    "- The **high** (e.g. 1e-1) init scale can lead to the **exploding gradients** problem, as we multiply by **big values** in the backpropagation.\n",
    "\n",
    "Note that these two cases are likely to occur in the **3-Layer Net** also, but the **5-Layer Net** is more prone to these issues."
   ]
  },
  {
   "cell_type": "markdown",
   "metadata": {
    "id": "D4Mm_Hf86e4-"
   },
   "source": [
    "# Update rules\n",
    "So far we have used vanilla stochastic gradient descent (SGD) as our update rule. More sophisticated update rules can make it easier to train deep networks. We will implement a few of the most commonly used update rules and compare them to vanilla SGD."
   ]
  },
  {
   "cell_type": "markdown",
   "metadata": {
    "id": "0zPfUlx66e4-"
   },
   "source": [
    "# SGD+Momentum\n",
    "Stochastic gradient descent with momentum is a widely used update rule that tends to make deep networks converge faster than vanilla stochastic gradient descent.\n",
    "\n",
    "Open the file `cviuh/optim.py` and read the documentation at the top of the file to make sure you understand the API. Implement the SGD+momentum update rule in the function `sgd_momentum` and run the following to check your implementation. You should see errors less than e-8."
   ]
  },
  {
   "cell_type": "code",
   "execution_count": 15,
   "metadata": {
    "colab": {
     "base_uri": "https://localhost:8080/"
    },
    "executionInfo": {
     "elapsed": 975,
     "status": "ok",
     "timestamp": 1616348670626,
     "user": {
      "displayName": "Soufian Benamara",
      "photoUrl": "https://lh3.googleusercontent.com/a-/AOh14Gj7-UwGIuLvBwNdi62Q2pMRjoHrgtEm3LZkyGEWZw=s64",
      "userId": "08596286217915945464"
     },
     "user_tz": -60
    },
    "id": "DL6wvk8L6e4_",
    "outputId": "beb2fb0b-8faf-47a2-a392-a32dc36b817a"
   },
   "outputs": [
    {
     "name": "stdout",
     "output_type": "stream",
     "text": [
      "next_w error:  8.882347033505819e-09\n",
      "velocity error:  4.269287743278663e-09\n"
     ]
    }
   ],
   "source": [
    "from cviuh.optim import sgd_momentum\n",
    "\n",
    "N, D = 4, 5\n",
    "w = np.linspace(-0.4, 0.6, num=N*D).reshape(N, D)\n",
    "dw = np.linspace(-0.6, 0.4, num=N*D).reshape(N, D)\n",
    "v = np.linspace(0.6, 0.9, num=N*D).reshape(N, D)\n",
    "\n",
    "config = {'learning_rate': 1e-3, 'velocity': v}\n",
    "next_w, _ = sgd_momentum(w, dw, config=config)\n",
    "\n",
    "expected_next_w = np.asarray([\n",
    "  [ 0.1406,      0.20738947,  0.27417895,  0.34096842,  0.40775789],\n",
    "  [ 0.47454737,  0.54133684,  0.60812632,  0.67491579,  0.74170526],\n",
    "  [ 0.80849474,  0.87528421,  0.94207368,  1.00886316,  1.07565263],\n",
    "  [ 1.14244211,  1.20923158,  1.27602105,  1.34281053,  1.4096    ]])\n",
    "expected_velocity = np.asarray([\n",
    "  [ 0.5406,      0.55475789,  0.56891579, 0.58307368,  0.59723158],\n",
    "  [ 0.61138947,  0.62554737,  0.63970526,  0.65386316,  0.66802105],\n",
    "  [ 0.68217895,  0.69633684,  0.71049474,  0.72465263,  0.73881053],\n",
    "  [ 0.75296842,  0.76712632,  0.78128421,  0.79544211,  0.8096    ]])\n",
    "\n",
    "# Should see relative errors around e-8 or less\n",
    "print('next_w error: ', rel_error(next_w, expected_next_w))\n",
    "print('velocity error: ', rel_error(expected_velocity, config['velocity']))"
   ]
  },
  {
   "cell_type": "markdown",
   "metadata": {
    "id": "lDaHzWI36e5A"
   },
   "source": [
    "Once you have done so, run the following to train a six-layer network with both SGD and SGD+momentum. You should see the SGD+momentum update rule converge faster."
   ]
  },
  {
   "cell_type": "code",
   "execution_count": 16,
   "metadata": {
    "colab": {
     "base_uri": "https://localhost:8080/",
     "height": 1000
    },
    "executionInfo": {
     "elapsed": 8668,
     "status": "ok",
     "timestamp": 1612473276942,
     "user": {
      "displayName": "Soufian Benamara",
      "photoUrl": "https://lh3.googleusercontent.com/a-/AOh14Gj7-UwGIuLvBwNdi62Q2pMRjoHrgtEm3LZkyGEWZw=s64",
      "userId": "08596286217915945464"
     },
     "user_tz": -60
    },
    "id": "YsLEPP_46e5A",
    "outputId": "47758191-b438-48fe-a810-b466e9aaa698",
    "scrolled": false
   },
   "outputs": [
    {
     "name": "stdout",
     "output_type": "stream",
     "text": [
      "running with  sgd\n",
      "(Iteration 1 / 200) loss: 2.536859\n",
      "(Epoch 0 / 5) train acc: 0.091000; val_acc: 0.111000\n",
      "(Iteration 11 / 200) loss: 2.312471\n",
      "(Iteration 21 / 200) loss: 2.233966\n",
      "(Iteration 31 / 200) loss: 2.131867\n",
      "(Epoch 1 / 5) train acc: 0.265000; val_acc: 0.211000\n",
      "(Iteration 41 / 200) loss: 2.021031\n",
      "(Iteration 51 / 200) loss: 2.173585\n",
      "(Iteration 61 / 200) loss: 2.051792\n",
      "(Iteration 71 / 200) loss: 1.989611\n",
      "(Epoch 2 / 5) train acc: 0.284000; val_acc: 0.240000\n",
      "(Iteration 81 / 200) loss: 2.033129\n",
      "(Iteration 91 / 200) loss: 1.883004\n",
      "(Iteration 101 / 200) loss: 1.914180\n",
      "(Iteration 111 / 200) loss: 2.011534\n",
      "(Epoch 3 / 5) train acc: 0.307000; val_acc: 0.275000\n",
      "(Iteration 121 / 200) loss: 1.877960\n",
      "(Iteration 131 / 200) loss: 2.098228\n",
      "(Iteration 141 / 200) loss: 1.802730\n",
      "(Iteration 151 / 200) loss: 1.758804\n",
      "(Epoch 4 / 5) train acc: 0.326000; val_acc: 0.278000\n",
      "(Iteration 161 / 200) loss: 1.941765\n",
      "(Iteration 171 / 200) loss: 1.918880\n",
      "(Iteration 181 / 200) loss: 1.916719\n",
      "(Iteration 191 / 200) loss: 1.730684\n",
      "(Epoch 5 / 5) train acc: 0.356000; val_acc: 0.296000\n",
      "\n",
      "running with  sgd_momentum\n",
      "(Iteration 1 / 200) loss: 3.118404\n",
      "(Epoch 0 / 5) train acc: 0.110000; val_acc: 0.119000\n",
      "(Iteration 11 / 200) loss: 2.284369\n",
      "(Iteration 21 / 200) loss: 2.126183\n",
      "(Iteration 31 / 200) loss: 1.907075\n",
      "(Epoch 1 / 5) train acc: 0.320000; val_acc: 0.280000\n",
      "(Iteration 41 / 200) loss: 2.017060\n",
      "(Iteration 51 / 200) loss: 1.917818\n",
      "(Iteration 61 / 200) loss: 1.824997\n",
      "(Iteration 71 / 200) loss: 2.010206\n",
      "(Epoch 2 / 5) train acc: 0.398000; val_acc: 0.336000\n",
      "(Iteration 81 / 200) loss: 1.733319\n",
      "(Iteration 91 / 200) loss: 1.720099\n",
      "(Iteration 101 / 200) loss: 1.484220\n",
      "(Iteration 111 / 200) loss: 1.446333\n",
      "(Epoch 3 / 5) train acc: 0.504000; val_acc: 0.327000\n",
      "(Iteration 121 / 200) loss: 1.398191\n",
      "(Iteration 131 / 200) loss: 1.473985\n",
      "(Iteration 141 / 200) loss: 1.507965\n",
      "(Iteration 151 / 200) loss: 1.454651\n",
      "(Epoch 4 / 5) train acc: 0.495000; val_acc: 0.353000\n",
      "(Iteration 161 / 200) loss: 1.403831\n",
      "(Iteration 171 / 200) loss: 1.312616\n",
      "(Iteration 181 / 200) loss: 1.240732\n",
      "(Iteration 191 / 200) loss: 1.372534\n",
      "(Epoch 5 / 5) train acc: 0.554000; val_acc: 0.383000\n",
      "\n"
     ]
    },
    {
     "data": {
      "image/png": "[encoded data removed]",
      "text/plain": [
       "<Figure size 1080x1080 with 3 Axes>"
      ]
     },
     "metadata": {
      "needs_background": "light"
     },
     "output_type": "display_data"
    }
   ],
   "source": [
    "num_train = 4000\n",
    "small_data = {\n",
    "  'X_train': data['X_train'][:num_train],\n",
    "  'y_train': data['y_train'][:num_train],\n",
    "  'X_val': data['X_val'],\n",
    "  'y_val': data['y_val'],\n",
    "}\n",
    "\n",
    "solvers = {}\n",
    "\n",
    "for update_rule in ['sgd', 'sgd_momentum']:\n",
    "  print('running with ', update_rule)\n",
    "  model = FullyConnectedNet([100, 100, 100, 100, 100], weight_scale=5e-2)\n",
    "\n",
    "  solver = Solver(model, small_data,\n",
    "                  num_epochs=5, batch_size=100,\n",
    "                  update_rule=update_rule,\n",
    "                  optim_config={\n",
    "                    'learning_rate': 5e-3,\n",
    "                  },\n",
    "                  verbose=True)\n",
    "  solvers[update_rule] = solver\n",
    "  solver.train()\n",
    "  print()\n",
    "\n",
    "plt.subplot(3, 1, 1)\n",
    "plt.title('Training loss')\n",
    "plt.xlabel('Iteration')\n",
    "\n",
    "plt.subplot(3, 1, 2)\n",
    "plt.title('Training accuracy')\n",
    "plt.xlabel('Epoch')\n",
    "\n",
    "plt.subplot(3, 1, 3)\n",
    "plt.title('Validation accuracy')\n",
    "plt.xlabel('Epoch')\n",
    "\n",
    "for update_rule, solver in solvers.items():\n",
    "  plt.subplot(3, 1, 1)\n",
    "  plt.plot(solver.loss_history, 'o', label=\"loss_%s\" % update_rule)\n",
    "  \n",
    "  plt.subplot(3, 1, 2)\n",
    "  plt.plot(solver.train_acc_history, '-o', label=\"train_acc_%s\" % update_rule)\n",
    "\n",
    "  plt.subplot(3, 1, 3)\n",
    "  plt.plot(solver.val_acc_history, '-o', label=\"val_acc_%s\" % update_rule)\n",
    "  \n",
    "for i in [1, 2, 3]:\n",
    "  plt.subplot(3, 1, i)\n",
    "  plt.legend(loc='upper center', ncol=4)\n",
    "plt.gcf().set_size_inches(15, 15)\n",
    "plt.show()"
   ]
  },
  {
   "cell_type": "markdown",
   "metadata": {
    "id": "cdf_UeJK6e5A"
   },
   "source": [
    "# RMSProp and Adam\n",
    "RMSProp [1] and Adam [2] are update rules that set per-parameter learning rates by using a running average of the second moments of gradients.\n",
    "\n",
    "In the file `cviuh/optim.py`, implement the RMSProp update rule in the `rmsprop` function and implement the Adam update rule in the `adam` function, and check your implementations using the tests below.\n",
    "\n",
    "**NOTE:** Please implement the _complete_ Adam update rule (with the bias correction mechanism), not the first simplified version mentioned in the course notes. \n",
    "\n",
    "[1] Tijmen Tieleman and Geoffrey Hinton. \"Lecture 6.5-rmsprop: Divide the gradient by a running average of its recent magnitude.\" COURSERA: Neural Networks for Machine Learning 4 (2012).\n",
    "\n",
    "[2] Diederik Kingma and Jimmy Ba, \"Adam: A Method for Stochastic Optimization\", ICLR 2015."
   ]
  },
  {
   "cell_type": "code",
   "execution_count": 17,
   "metadata": {
    "colab": {
     "base_uri": "https://localhost:8080/"
    },
    "executionInfo": {
     "elapsed": 978,
     "status": "ok",
     "timestamp": 1616348681202,
     "user": {
      "displayName": "Soufian Benamara",
      "photoUrl": "https://lh3.googleusercontent.com/a-/AOh14Gj7-UwGIuLvBwNdi62Q2pMRjoHrgtEm3LZkyGEWZw=s64",
      "userId": "08596286217915945464"
     },
     "user_tz": -60
    },
    "id": "PWBxZOWX6e5A",
    "outputId": "bbe6dd0f-6a4f-4a24-98f0-f19285cf400e"
   },
   "outputs": [
    {
     "name": "stdout",
     "output_type": "stream",
     "text": [
      "next_w error:  9.524687511038133e-08\n",
      "cache error:  2.6477955807156126e-09\n"
     ]
    }
   ],
   "source": [
    "# Test RMSProp implementation\n",
    "from cviuh.optim import rmsprop\n",
    "\n",
    "N, D = 4, 5\n",
    "w = np.linspace(-0.4, 0.6, num=N*D).reshape(N, D)\n",
    "dw = np.linspace(-0.6, 0.4, num=N*D).reshape(N, D)\n",
    "cache = np.linspace(0.6, 0.9, num=N*D).reshape(N, D)\n",
    "\n",
    "config = {'learning_rate': 1e-2, 'cache': cache}\n",
    "next_w, _ = rmsprop(w, dw, config=config)\n",
    "\n",
    "expected_next_w = np.asarray([\n",
    "  [-0.39223849, -0.34037513, -0.28849239, -0.23659121, -0.18467247],\n",
    "  [-0.132737,   -0.08078555, -0.02881884,  0.02316247,  0.07515774],\n",
    "  [ 0.12716641,  0.17918792,  0.23122175,  0.28326742,  0.33532447],\n",
    "  [ 0.38739248,  0.43947102,  0.49155973,  0.54365823,  0.59576619]])\n",
    "expected_cache = np.asarray([\n",
    "  [ 0.5976,      0.6126277,   0.6277108,   0.64284931,  0.65804321],\n",
    "  [ 0.67329252,  0.68859723,  0.70395734,  0.71937285,  0.73484377],\n",
    "  [ 0.75037008,  0.7659518,   0.78158892,  0.79728144,  0.81302936],\n",
    "  [ 0.82883269,  0.84469141,  0.86060554,  0.87657507,  0.8926    ]])\n",
    "\n",
    "# You should see relative errors around e-7 or less\n",
    "print('next_w error: ', rel_error(expected_next_w, next_w))\n",
    "print('cache error: ', rel_error(expected_cache, config['cache']))"
   ]
  },
  {
   "cell_type": "code",
   "execution_count": 18,
   "metadata": {
    "colab": {
     "base_uri": "https://localhost:8080/"
    },
    "executionInfo": {
     "elapsed": 960,
     "status": "ok",
     "timestamp": 1616348690097,
     "user": {
      "displayName": "Soufian Benamara",
      "photoUrl": "https://lh3.googleusercontent.com/a-/AOh14Gj7-UwGIuLvBwNdi62Q2pMRjoHrgtEm3LZkyGEWZw=s64",
      "userId": "08596286217915945464"
     },
     "user_tz": -60
    },
    "id": "aHUqK1Gx6e5B",
    "outputId": "4f6ee302-461f-45b2-e42a-262218628c34"
   },
   "outputs": [
    {
     "name": "stdout",
     "output_type": "stream",
     "text": [
      "next_w error:  1.1395691798535431e-07\n",
      "v error:  4.208314038113071e-09\n",
      "m error:  4.214963193114416e-09\n"
     ]
    }
   ],
   "source": [
    "# Test Adam implementation\n",
    "from cviuh.optim import adam\n",
    "\n",
    "N, D = 4, 5\n",
    "w = np.linspace(-0.4, 0.6, num=N*D).reshape(N, D)\n",
    "dw = np.linspace(-0.6, 0.4, num=N*D).reshape(N, D)\n",
    "m = np.linspace(0.6, 0.9, num=N*D).reshape(N, D)\n",
    "v = np.linspace(0.7, 0.5, num=N*D).reshape(N, D)\n",
    "\n",
    "config = {'learning_rate': 1e-2, 'm': m, 'v': v, 't': 5}\n",
    "next_w, _ = adam(w, dw, config=config)\n",
    "\n",
    "expected_next_w = np.asarray([\n",
    "  [-0.40094747, -0.34836187, -0.29577703, -0.24319299, -0.19060977],\n",
    "  [-0.1380274,  -0.08544591, -0.03286534,  0.01971428,  0.0722929],\n",
    "  [ 0.1248705,   0.17744702,  0.23002243,  0.28259667,  0.33516969],\n",
    "  [ 0.38774145,  0.44031188,  0.49288093,  0.54544852,  0.59801459]])\n",
    "expected_v = np.asarray([\n",
    "  [ 0.69966,     0.68908382,  0.67851319,  0.66794809,  0.65738853,],\n",
    "  [ 0.64683452,  0.63628604,  0.6257431,   0.61520571,  0.60467385,],\n",
    "  [ 0.59414753,  0.58362676,  0.57311152,  0.56260183,  0.55209767,],\n",
    "  [ 0.54159906,  0.53110598,  0.52061845,  0.51013645,  0.49966,   ]])\n",
    "expected_m = np.asarray([\n",
    "  [ 0.48,        0.49947368,  0.51894737,  0.53842105,  0.55789474],\n",
    "  [ 0.57736842,  0.59684211,  0.61631579,  0.63578947,  0.65526316],\n",
    "  [ 0.67473684,  0.69421053,  0.71368421,  0.73315789,  0.75263158],\n",
    "  [ 0.77210526,  0.79157895,  0.81105263,  0.83052632,  0.85      ]])\n",
    "\n",
    "# You should see relative errors around e-7 or less\n",
    "print('next_w error: ', rel_error(expected_next_w, next_w))\n",
    "print('v error: ', rel_error(expected_v, config['v']))\n",
    "print('m error: ', rel_error(expected_m, config['m']))"
   ]
  },
  {
   "cell_type": "markdown",
   "metadata": {
    "id": "IKCXnhnW6e5B"
   },
   "source": [
    "Once you have debugged your RMSProp and Adam implementations, run the following to train a pair of deep networks using these new update rules:"
   ]
  },
  {
   "cell_type": "code",
   "execution_count": 19,
   "metadata": {
    "colab": {
     "base_uri": "https://localhost:8080/",
     "height": 1000
    },
    "executionInfo": {
     "elapsed": 11258,
     "status": "ok",
     "timestamp": 1612474682285,
     "user": {
      "displayName": "Soufian Benamara",
      "photoUrl": "https://lh3.googleusercontent.com/a-/AOh14Gj7-UwGIuLvBwNdi62Q2pMRjoHrgtEm3LZkyGEWZw=s64",
      "userId": "08596286217915945464"
     },
     "user_tz": -60
    },
    "id": "viZMbPdw6e5B",
    "outputId": "15493f1a-b5cb-41cc-eb00-d1c19bd34e73"
   },
   "outputs": [
    {
     "name": "stdout",
     "output_type": "stream",
     "text": [
      "running with  adam\n",
      "(Iteration 1 / 200) loss: 2.901436\n",
      "(Epoch 0 / 5) train acc: 0.124000; val_acc: 0.112000\n",
      "(Iteration 11 / 200) loss: 2.134155\n",
      "(Iteration 21 / 200) loss: 1.918171\n",
      "(Iteration 31 / 200) loss: 1.600912\n",
      "(Epoch 1 / 5) train acc: 0.378000; val_acc: 0.310000\n",
      "(Iteration 41 / 200) loss: 1.692065\n",
      "(Iteration 51 / 200) loss: 1.658455\n",
      "(Iteration 61 / 200) loss: 1.621050\n",
      "(Iteration 71 / 200) loss: 1.547109\n",
      "(Epoch 2 / 5) train acc: 0.435000; val_acc: 0.323000\n",
      "(Iteration 81 / 200) loss: 1.888818\n",
      "(Iteration 91 / 200) loss: 1.462141\n",
      "(Iteration 101 / 200) loss: 1.426193\n",
      "(Iteration 111 / 200) loss: 1.476799\n",
      "(Epoch 3 / 5) train acc: 0.516000; val_acc: 0.375000\n",
      "(Iteration 121 / 200) loss: 1.528755\n",
      "(Iteration 131 / 200) loss: 1.342992\n",
      "(Iteration 141 / 200) loss: 1.271946\n",
      "(Iteration 151 / 200) loss: 1.534514\n",
      "(Epoch 4 / 5) train acc: 0.515000; val_acc: 0.367000\n",
      "(Iteration 161 / 200) loss: 1.323432\n",
      "(Iteration 171 / 200) loss: 1.341368\n",
      "(Iteration 181 / 200) loss: 1.267241\n",
      "(Iteration 191 / 200) loss: 1.290708\n",
      "(Epoch 5 / 5) train acc: 0.579000; val_acc: 0.371000\n",
      "\n",
      "running with  rmsprop\n",
      "(Iteration 1 / 200) loss: 2.701890\n",
      "(Epoch 0 / 5) train acc: 0.106000; val_acc: 0.099000\n",
      "(Iteration 11 / 200) loss: 2.035603\n",
      "(Iteration 21 / 200) loss: 1.922464\n",
      "(Iteration 31 / 200) loss: 2.062306\n",
      "(Epoch 1 / 5) train acc: 0.394000; val_acc: 0.295000\n",
      "(Iteration 41 / 200) loss: 1.739730\n",
      "(Iteration 51 / 200) loss: 1.683869\n",
      "(Iteration 61 / 200) loss: 1.690569\n",
      "(Iteration 71 / 200) loss: 1.597774\n",
      "(Epoch 2 / 5) train acc: 0.464000; val_acc: 0.329000\n",
      "(Iteration 81 / 200) loss: 1.628774\n",
      "(Iteration 91 / 200) loss: 1.453969\n",
      "(Iteration 101 / 200) loss: 1.696701\n",
      "(Iteration 111 / 200) loss: 1.625791\n",
      "(Epoch 3 / 5) train acc: 0.493000; val_acc: 0.337000\n",
      "(Iteration 121 / 200) loss: 1.501937\n",
      "(Iteration 131 / 200) loss: 1.507252\n",
      "(Iteration 141 / 200) loss: 1.385516\n",
      "(Iteration 151 / 200) loss: 1.481829\n",
      "(Epoch 4 / 5) train acc: 0.537000; val_acc: 0.354000\n",
      "(Iteration 161 / 200) loss: 1.489955\n",
      "(Iteration 171 / 200) loss: 1.392168\n",
      "(Iteration 181 / 200) loss: 1.370901\n",
      "(Iteration 191 / 200) loss: 1.308082\n",
      "(Epoch 5 / 5) train acc: 0.562000; val_acc: 0.339000\n",
      "\n"
     ]
    },
    {
     "data": {
      "image/png": "[encoded data removed]",
      "text/plain": [
       "<Figure size 1080x1080 with 3 Axes>"
      ]
     },
     "metadata": {
      "needs_background": "light"
     },
     "output_type": "display_data"
    }
   ],
   "source": [
    "learning_rates = {'rmsprop': 1e-4, 'adam': 1e-3}\n",
    "for update_rule in ['adam', 'rmsprop']:\n",
    "  print('running with ', update_rule)\n",
    "  model = FullyConnectedNet([100, 100, 100, 100, 100], weight_scale=5e-2)\n",
    "\n",
    "  solver = Solver(model, small_data,\n",
    "                  num_epochs=5, batch_size=100,\n",
    "                  update_rule=update_rule,\n",
    "                  optim_config={\n",
    "                    'learning_rate': learning_rates[update_rule]\n",
    "                  },\n",
    "                  verbose=True)\n",
    "  solvers[update_rule] = solver\n",
    "  solver.train()\n",
    "  print()\n",
    "\n",
    "plt.subplot(3, 1, 1)\n",
    "plt.title('Training loss')\n",
    "plt.xlabel('Iteration')\n",
    "\n",
    "plt.subplot(3, 1, 2)\n",
    "plt.title('Training accuracy')\n",
    "plt.xlabel('Epoch')\n",
    "\n",
    "plt.subplot(3, 1, 3)\n",
    "plt.title('Validation accuracy')\n",
    "plt.xlabel('Epoch')\n",
    "\n",
    "for update_rule, solver in list(solvers.items()):\n",
    "  plt.subplot(3, 1, 1)\n",
    "  plt.plot(solver.loss_history, 'o', label=update_rule)\n",
    "  \n",
    "  plt.subplot(3, 1, 2)\n",
    "  plt.plot(solver.train_acc_history, '-o', label=update_rule)\n",
    "\n",
    "  plt.subplot(3, 1, 3)\n",
    "  plt.plot(solver.val_acc_history, '-o', label=update_rule)\n",
    "  \n",
    "for i in [1, 2, 3]:\n",
    "  plt.subplot(3, 1, i)\n",
    "  plt.legend(loc='upper center', ncol=4)\n",
    "plt.gcf().set_size_inches(15, 15)\n",
    "plt.show()"
   ]
  },
  {
   "cell_type": "markdown",
   "metadata": {
    "id": "3bYf8tz86e5B",
    "tags": [
     "pdf-inline"
    ]
   },
   "source": [
    "## Inline Question 3:\n",
    "\n",
    "AdaGrad, like Adam, is a per-parameter optimization method that uses the following update rule:\n",
    "\n",
    "```\n",
    "cache += dw**2\n",
    "w += - learning_rate * dw / (np.sqrt(cache) + eps)\n",
    "```\n",
    "\n",
    "John notices that when he was training a network with AdaGrad that the updates became very small, and that his network was learning slowly. Using your knowledge of the AdaGrad update rule, why do you think the updates would become very small? Would Adam have the same issue?\n",
    "\n",
    "\n",
    "## Answer: \n",
    "- Using AdaGrad, the fact that updates becomes very small is due to its monotonicity. The latter is caused by the infinite update of the `cache` variable (although it's square-rooted when updating `w`, it will not change the fact that it's still incremented infinitely).\n",
    "- No, Adam would not have the same issue. In fact, Adam is a smoothed version of **RMSprop**, in which the `cache` variable is *leaky*."
   ]
  },
  {
   "cell_type": "markdown",
   "metadata": {
    "id": "19iegKRb6e5C"
   },
   "source": [
    "# Train a good model!\n",
    "Train the best fully-connected model that you can on CIFAR-10, storing your best model in the `best_model` variable. We require you to get at least 50% accuracy on the validation set using a fully-connected net.\n",
    "\n",
    "If you are careful it should be possible to get accuracies above 55%, but we don't require it for this part and won't assign extra credit for doing so. Later in the assignment we will ask you to train the best convolutional network that you can on CIFAR-10, and we would prefer that you spend your effort working on convolutional nets rather than fully-connected nets.\n",
    "\n",
    "You might find it useful to complete the `BatchNormalization.ipynb` and `Dropout.ipynb` notebooks before completing this part, since those techniques can help you train powerful models."
   ]
  },
  {
   "cell_type": "code",
   "execution_count": 20,
   "metadata": {
    "colab": {
     "base_uri": "https://localhost:8080/"
    },
    "executionInfo": {
     "elapsed": 2142989,
     "status": "ok",
     "timestamp": 1616354514212,
     "user": {
      "displayName": "Soufian Benamara",
      "photoUrl": "https://lh3.googleusercontent.com/a-/AOh14Gj7-UwGIuLvBwNdi62Q2pMRjoHrgtEm3LZkyGEWZw=s64",
      "userId": "08596286217915945464"
     },
     "user_tz": -60
    },
    "id": "BlxVLk8i6e5C",
    "outputId": "54d4fd39-07ef-4506-9ab7-8d4e8a06074e",
    "scrolled": false
   },
   "outputs": [
    {
     "name": "stdout",
     "output_type": "stream",
     "text": [
      " 1) hsize=1 | hdim=417 | dp=0.89 | wscale=4.65e-04 | lr=2.049e-04 | val_acc=0.5350\n",
      " 2) hsize=2 | hdim=417 | dp=0.92 | wscale=1.55e-04 | lr=1.760e-04 | val_acc=0.5630\n",
      " 3) hsize=2 | hdim=400 | dp=0.92 | wscale=8.91e-04 | lr=2.423e-04 | val_acc=0.5450\n",
      " 4) hsize=2 | hdim=457 | dp=0.81 | wscale=2.60e-04 | lr=3.663e-04 | val_acc=0.5280\n",
      " 5) hsize=1 | hdim=443 | dp=0.95 | wscale=1.08e-04 | lr=6.343e-04 | val_acc=0.5340\n",
      " 6) hsize=1 | hdim=484 | dp=0.98 | wscale=1.76e-04 | lr=2.851e-04 | val_acc=0.5250\n",
      " 7) hsize=1 | hdim=431 | dp=0.97 | wscale=3.79e-04 | lr=8.114e-04 | val_acc=0.5340\n",
      " 8) hsize=1 | hdim=431 | dp=0.87 | wscale=1.02e-04 | lr=5.007e-04 | val_acc=0.5360\n",
      " 9) hsize=2 | hdim=483 | dp=0.89 | wscale=5.28e-04 | lr=1.045e-04 | val_acc=0.5560\n",
      "10) hsize=1 | hdim=362 | dp=0.96 | wscale=2.92e-04 | lr=8.916e-04 | val_acc=0.5020\n",
      "\n",
      "Best validation accuracy: 0.5630\n"
     ]
    }
   ],
   "source": [
    "best_model = None\n",
    "################################################################################\n",
    "# Train the best FullyConnectedNet that you can on CIFAR-10. You might         #\n",
    "# find batch/layer normalization and dropout useful. Store your best model in  #\n",
    "# the best_model variable.                                                     #\n",
    "################################################################################\n",
    "\n",
    "# To find the optimal parameter combination, we'll use a random search strategy.\n",
    "# For that, define a random search function, which yields tuples of\n",
    "# (hidden_size, hidden_dimension, dropout_p, weight_scale, lr)\n",
    "# Note that the hard-coded low/high values for each parameter are changed (i.e. refined)\n",
    "# during tests.\n",
    "def random_search(sample_size):\n",
    "  for _ in range(sample_size):\n",
    "    hsize = np.random.randint(low=1, high=3)\n",
    "    hdim = np.random.randint(low=300, high=500)\n",
    "    dp = np.around(np.random.uniform(low=8, high=10) / 10, decimals=2)\n",
    "    wscale = 10 ** np.random.uniform(low=-4, high=-3)\n",
    "    lr = 10 ** np.random.uniform(low=-4, high=-3)\n",
    "\n",
    "    yield hsize, hdim, dp, wscale, lr\n",
    "\n",
    "# Initialize the best validation accuracy.\n",
    "best_val_acc = 0.0\n",
    "\n",
    "# Batch size (bsize) is kept unchanged during the random search.\n",
    "bsize = 100\n",
    "\n",
    "# Test 10 parameter combinations.\n",
    "for i, params in enumerate(random_search(10)):\n",
    "  hsize, hdim, dp, wscale, lr = params\n",
    "\n",
    "  # Define 'hdim' hidden layers with size 'hsize'\n",
    "  hidden_layers = [hdim] * hsize\n",
    "  model = FullyConnectedNet(hidden_layers, weight_scale=wscale,\n",
    "                            normalization=\"batchnorm\", dropout=dp)\n",
    "\n",
    "  solver = Solver(model, data,\n",
    "                  num_epochs=5, batch_size=bsize,\n",
    "                  update_rule='adam',\n",
    "                  optim_config={'learning_rate': lr},\n",
    "                  verbose=False)\n",
    "\n",
    "  solver.train()\n",
    "\n",
    "  y_val_pred = np.argmax(model.loss(data['X_val']), axis=1)\n",
    "  val_acc = (y_val_pred == data['y_val']).mean()\n",
    "\n",
    "  print('%2d) hsize=%1d | hdim=%3d | dp=%.2f | wscale=%.2e | lr=%.3e | val_acc=%.4f' % \n",
    "        (i+1, hsize, hdim, dp, wscale, lr, val_acc))\n",
    "\n",
    "  if val_acc > best_val_acc:\n",
    "    best_val_acc = val_acc\n",
    "    best_model = model\n",
    "\n",
    "print('\\nBest validation accuracy: %.4f' % best_val_acc)\n",
    "\n",
    "## TAKE A LONG TIME OF COMPUTING"
   ]
  },
  {
   "cell_type": "markdown",
   "metadata": {
    "id": "Fcd_y9uN6e5D"
   },
   "source": [
    "# Test your model!\n",
    "Run your best model on the validation and test sets. You should achieve above 50% accuracy on the validation set."
   ]
  },
  {
   "cell_type": "code",
   "execution_count": 21,
   "metadata": {
    "colab": {
     "base_uri": "https://localhost:8080/"
    },
    "executionInfo": {
     "elapsed": 1654,
     "status": "ok",
     "timestamp": 1616354515881,
     "user": {
      "displayName": "Soufian Benamara",
      "photoUrl": "https://lh3.googleusercontent.com/a-/AOh14Gj7-UwGIuLvBwNdi62Q2pMRjoHrgtEm3LZkyGEWZw=s64",
      "userId": "08596286217915945464"
     },
     "user_tz": -60
    },
    "id": "vmd3V6gg6e5D",
    "outputId": "eca76537-21db-4e39-ee8c-c8ae634dd8ad"
   },
   "outputs": [
    {
     "name": "stdout",
     "output_type": "stream",
     "text": [
      "Validation set accuracy:  0.563\n",
      "Test set accuracy:  0.553\n"
     ]
    }
   ],
   "source": [
    "y_test_pred = np.argmax(best_model.loss(data['X_test']), axis=1)\n",
    "y_val_pred = np.argmax(best_model.loss(data['X_val']), axis=1)\n",
    "print('Validation set accuracy: ', (y_val_pred == data['y_val']).mean())\n",
    "print('Test set accuracy: ', (y_test_pred == data['y_test']).mean())"
   ]
  }
 ],
 "metadata": {
  "colab": {
   "collapsed_sections": [],
   "name": "FullyConnectedNets.ipynb",
   "provenance": []
  },
  "kernelspec": {
   "display_name": "Python 3 (ipykernel)",
   "language": "python",
   "name": "python3"
  },
  "language_info": {
   "codemirror_mode": {
    "name": "ipython",
    "version": 3
   },
   "file_extension": ".py",
   "mimetype": "text/x-python",
   "name": "python",
   "nbconvert_exporter": "python",
   "pygments_lexer": "ipython3",
   "version": "3.10.2"
  }
 },
 "nbformat": 4,
 "nbformat_minor": 1
}
