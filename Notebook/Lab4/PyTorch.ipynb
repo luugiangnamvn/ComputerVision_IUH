{
 "cells": [
  {
   "cell_type": "markdown",
   "metadata": {
    "id": "Qgu-XXbPrsf6",
    "tags": [
     "pdf-title"
    ]
   },
   "source": [
    "# What's this PyTorch business?\n",
    "\n",
    "You've written a lot of code in this assignment to provide a whole host of neural network functionality. Dropout, Batch Norm, and 2D convolutions are some of the workhorses of deep learning in computer vision. You've also worked hard to make your code efficient and vectorized.\n",
    "\n",
    "For the last part of this assignment, though, we're going to leave behind your beautiful codebase and instead migrate to one of two popular deep learning frameworks: in this instance, PyTorch (or TensorFlow, if you choose to use that notebook)."
   ]
  },
  {
   "cell_type": "markdown",
   "metadata": {
    "id": "-ZVeIFGwrsf7",
    "tags": [
     "pdf-ignore"
    ]
   },
   "source": [
    "### What is PyTorch?\n",
    "\n",
    "PyTorch is a system for executing dynamic computational graphs over Tensor objects that behave similarly as numpy ndarray. It comes with a powerful automatic differentiation engine that removes the need for manual back-propagation. \n",
    "\n",
    "### Why?\n",
    "\n",
    "* Our code will now run on GPUs! Much faster training. When using a framework like PyTorch or TensorFlow you can harness the power of the GPU for your own custom neural network architectures without having to write CUDA code directly (which is beyond the scope of this class).\n",
    "* We want you to be ready to use one of these frameworks for your project so you can experiment more efficiently than if you were writing every feature you want to use by hand. \n",
    "* We want you to stand on the shoulders of giants! TensorFlow and PyTorch are both excellent frameworks that will make your lives a lot easier, and now that you understand their guts, you are free to use them :) \n",
    "* We want you to be exposed to the sort of deep learning code you might run into in academia or industry.\n",
    "\n",
    "### PyTorch versions\n",
    "This notebook assumes that you are using **PyTorch version 1.4**. In some of the previous versions (e.g. before 0.4), Tensors had to be wrapped in Variable objects to be used in autograd; however Variables have now been deprecated. In addition 1.0+ versions separate a Tensor's datatype from its device, and use numpy-style factories for constructing Tensors rather than directly invoking Tensor constructors."
   ]
  },
  {
   "cell_type": "markdown",
   "metadata": {
    "id": "QO1srl7hrsf8",
    "tags": [
     "pdf-ignore"
    ]
   },
   "source": [
    "## How will I learn PyTorch?\n",
    "\n",
    "Justin Johnson has made an excellent [tutorial](https://github.com/jcjohnson/pytorch-examples) for PyTorch. \n",
    "\n",
    "You can also find the detailed [API doc](http://pytorch.org/docs/stable/index.html) here. If you have other questions that are not addressed by the API docs, the [PyTorch forum](https://discuss.pytorch.org/) is a much better place to ask than StackOverflow.\n",
    "\n",
    "## Install PyTorch 1.4 (ONLY IF YOU ARE WORKING LOCALLY)\n",
    "\n",
    "1. Have the latest version of Anaconda installed on your machine.\n",
    "2. Create a new conda environment starting from Python 3.7. In this setup example, we'll call it `torch_env`.\n",
    "3. Run the command: `conda activate torch_env`\n",
    "4. Run the command: `pip install torch==1.4 torchvision==0.5.0`"
   ]
  },
  {
   "cell_type": "markdown",
   "metadata": {
    "id": "k8DCxyFIrsf8"
   },
   "source": [
    "# Table of Contents\n",
    "\n",
    "This assignment has 5 parts. You will learn PyTorch on **three different levels of abstraction**, which will help you understand it better and prepare you for the final project. \n",
    "\n",
    "1. Part I, Preparation: we will use CIFAR-10 dataset.\n",
    "2. Part II, Barebones PyTorch: **Abstraction level 1**, we will work directly with the lowest-level PyTorch Tensors. \n",
    "3. Part III, PyTorch Module API: **Abstraction level 2**, we will use `nn.Module` to define arbitrary neural network architecture. \n",
    "4. Part IV, PyTorch Sequential API: **Abstraction level 3**, we will use `nn.Sequential` to define a linear feed-forward network very conveniently. \n",
    "5. Part V, CIFAR-10 open-ended challenge: please implement your own network to get as high accuracy as possible on CIFAR-10. You can experiment with any layer, optimizer, hyperparameters or other advanced features. \n",
    "\n",
    "Here is a table of comparison:\n",
    "\n",
    "| API           | Flexibility | Convenience |\n",
    "|---------------|-------------|-------------|\n",
    "| Barebone      | High        | Low         |\n",
    "| `nn.Module`     | High        | Medium      |\n",
    "| `nn.Sequential` | Low         | High        |"
   ]
  },
  {
   "cell_type": "markdown",
   "metadata": {
    "id": "PFMP9BSrrsf8"
   },
   "source": [
    "# Part I. Preparation\n",
    "\n",
    "First, we load the CIFAR-10 dataset. This might take a couple minutes the first time you do it, but the files should stay cached after that.\n",
    "\n",
    "In previous parts of the assignment we had to write our own code to download the CIFAR-10 dataset, preprocess it, and iterate through it in minibatches; PyTorch provides convenient tools to automate this process for us."
   ]
  },
  {
   "cell_type": "code",
   "execution_count": 1,
   "metadata": {
    "id": "B_ajIVbCrsf9",
    "tags": [
     "pdf-ignore"
    ]
   },
   "outputs": [],
   "source": [
    "import torch\n",
    "# assert '.'.join(torch.__version__.split('.')[:2]) == '1.4'\n",
    "import torch.nn as nn\n",
    "import torch.optim as optim\n",
    "from torch.utils.data import DataLoader\n",
    "from torch.utils.data import sampler\n",
    "\n",
    "import torchvision.datasets as dset\n",
    "import torchvision.transforms as T\n",
    "\n",
    "import numpy as np"
   ]
  },
  {
   "cell_type": "code",
   "execution_count": 2,
   "metadata": {
    "colab": {
     "base_uri": "https://localhost:8080/",
     "height": 117,
     "referenced_widgets": [
      "4eb1a044ba64422e87a1275a15117726",
      "456b60a2feb74792899128fc5cdfc967",
      "e855d99feea042cfaf3d4d53791252b3",
      "1581c8de653844c9a8994a9e7a9f00ad",
      "232214e6b0f54cd2af3cd875224b8bb4",
      "312385a363f248d8870a5dc94117939e",
      "ff7ea7afbcd44026859f3356f3ebc28f",
      "689de54ba7c44f2287bb6947b069bba0"
     ]
    },
    "executionInfo": {
     "elapsed": 6601,
     "status": "ok",
     "timestamp": 1613045116415,
     "user": {
      "displayName": "Soufian Benamara",
      "photoUrl": "https://lh3.googleusercontent.com/a-/AOh14Gj7-UwGIuLvBwNdi62Q2pMRjoHrgtEm3LZkyGEWZw=s64",
      "userId": "08596286217915945464"
     },
     "user_tz": -60
    },
    "id": "Woo1In9Hrsf9",
    "outputId": "daf50277-1945-40ae-aa9e-b34d512abdb9",
    "tags": [
     "pdf-ignore"
    ]
   },
   "outputs": [
    {
     "name": "stdout",
     "output_type": "stream",
     "text": [
      "Files already downloaded and verified\n",
      "Files already downloaded and verified\n",
      "Files already downloaded and verified\n"
     ]
    }
   ],
   "source": [
    "NUM_TRAIN = 49000\n",
    "\n",
    "# The torchvision.transforms package provides tools for preprocessing data\n",
    "# and for performing data augmentation; here we set up a transform to\n",
    "# preprocess the data by subtracting the mean RGB value and dividing by the\n",
    "# standard deviation of each RGB value; we've hardcoded the mean and std.\n",
    "transform = T.Compose([\n",
    "                T.ToTensor(),\n",
    "                T.Normalize((0.4914, 0.4822, 0.4465), (0.2023, 0.1994, 0.2010))\n",
    "            ])\n",
    "\n",
    "# We set up a Dataset object for each split (train / val / test); Datasets load\n",
    "# training examples one at a time, so we wrap each Dataset in a DataLoader which\n",
    "# iterates through the Dataset and forms minibatches. We divide the CIFAR-10\n",
    "# training set into train and val sets by passing a Sampler object to the\n",
    "# DataLoader telling how it should sample from the underlying Dataset.\n",
    "cifar10_train = dset.CIFAR10('./cviuh/datasets', train=True, download=True,\n",
    "                             transform=transform)\n",
    "loader_train = DataLoader(cifar10_train, batch_size=64, \n",
    "                          sampler=sampler.SubsetRandomSampler(range(NUM_TRAIN)))\n",
    "\n",
    "cifar10_val = dset.CIFAR10('./cviuh/datasets', train=True, download=True,\n",
    "                           transform=transform)\n",
    "loader_val = DataLoader(cifar10_val, batch_size=64, \n",
    "                        sampler=sampler.SubsetRandomSampler(range(NUM_TRAIN, 50000)))\n",
    "\n",
    "cifar10_test = dset.CIFAR10('./cviuh/datasets', train=False, download=True, \n",
    "                            transform=transform)\n",
    "loader_test = DataLoader(cifar10_test, batch_size=64)"
   ]
  },
  {
   "cell_type": "markdown",
   "metadata": {
    "id": "v6IDlCaPrsf-",
    "tags": [
     "pdf-ignore"
    ]
   },
   "source": [
    "You have an option to **use GPU by setting the flag to True below**. It is not necessary to use GPU for this assignment. Note that if your computer does not have CUDA enabled, `torch.cuda.is_available()` will return False and this notebook will fallback to CPU mode.\n",
    "\n",
    "The global variables `dtype` and `device` will control the data types throughout this assignment.\n",
    "\n",
    "## Colab Users\n",
    "\n",
    "If you are using Colab, you need to manually switch to a GPU device. You can do this by clicking `Runtime -> Change runtime type` and selecting `GPU` under `Hardware Accelerator`. Note that you have to rerun the cells from the top since the kernel gets restarted upon switching runtimes."
   ]
  },
  {
   "cell_type": "code",
   "execution_count": 3,
   "metadata": {
    "colab": {
     "base_uri": "https://localhost:8080/"
    },
    "executionInfo": {
     "elapsed": 652,
     "status": "ok",
     "timestamp": 1613045123930,
     "user": {
      "displayName": "Soufian Benamara",
      "photoUrl": "https://lh3.googleusercontent.com/a-/AOh14Gj7-UwGIuLvBwNdi62Q2pMRjoHrgtEm3LZkyGEWZw=s64",
      "userId": "08596286217915945464"
     },
     "user_tz": -60
    },
    "id": "x-jPlr7prsf-",
    "outputId": "68b654f1-2002-4964-9e3d-152e0c15becc",
    "tags": [
     "pdf-ignore-input"
    ]
   },
   "outputs": [
    {
     "name": "stdout",
     "output_type": "stream",
     "text": [
      "using device: cpu\n"
     ]
    }
   ],
   "source": [
    "USE_GPU = True\n",
    "\n",
    "dtype = torch.float32 # we will be using float throughout this tutorial\n",
    "\n",
    "if USE_GPU and torch.cuda.is_available():\n",
    "    device = torch.device('cuda')\n",
    "else:\n",
    "    device = torch.device('cpu')\n",
    "\n",
    "# Constant to control how frequently we print train loss\n",
    "print_every = 100\n",
    "\n",
    "print('using device:', device)"
   ]
  },
  {
   "cell_type": "markdown",
   "metadata": {
    "id": "UYbaX56Ersf_"
   },
   "source": [
    "# Part II. Barebones PyTorch\n",
    "\n",
    "PyTorch ships with high-level APIs to help us define model architectures conveniently, which we will cover in Part II of this tutorial. In this section, we will start with the barebone PyTorch elements to understand the autograd engine better. After this exercise, you will come to appreciate the high-level model API more.\n",
    "\n",
    "We will start with a simple fully-connected ReLU network with two hidden layers and no biases for CIFAR classification. \n",
    "This implementation computes the forward pass using operations on PyTorch Tensors, and uses PyTorch autograd to compute gradients. It is important that you understand every line, because you will write a harder version after the example.\n",
    "\n",
    "When we create a PyTorch Tensor with `requires_grad=True`, then operations involving that Tensor will not just compute values; they will also build up a computational graph in the background, allowing us to easily backpropagate through the graph to compute gradients of some Tensors with respect to a downstream loss. Concretely if x is a Tensor with `x.requires_grad == True` then after backpropagation `x.grad` will be another Tensor holding the gradient of x with respect to the scalar loss at the end."
   ]
  },
  {
   "cell_type": "markdown",
   "metadata": {
    "id": "8U7Xwms1rsf_",
    "tags": [
     "pdf-ignore"
    ]
   },
   "source": [
    "### PyTorch Tensors: Flatten Function\n",
    "A PyTorch Tensor is conceptionally similar to a numpy array: it is an n-dimensional grid of numbers, and like numpy PyTorch provides many functions to efficiently operate on Tensors. As a simple example, we provide a `flatten` function below which reshapes image data for use in a fully-connected neural network.\n",
    "\n",
    "Recall that image data is typically stored in a Tensor of shape N x C x H x W, where:\n",
    "\n",
    "* N is the number of datapoints\n",
    "* C is the number of channels\n",
    "* H is the height of the intermediate feature map in pixels\n",
    "* W is the height of the intermediate feature map in pixels\n",
    "\n",
    "This is the right way to represent the data when we are doing something like a 2D convolution, that needs spatial understanding of where the intermediate features are relative to each other. When we use fully connected affine layers to process the image, however, we want each datapoint to be represented by a single vector -- it's no longer useful to segregate the different channels, rows, and columns of the data. So, we use a \"flatten\" operation to collapse the `C x H x W` values per representation into a single long vector. The flatten function below first reads in the N, C, H, and W values from a given batch of data, and then returns a \"view\" of that data. \"View\" is analogous to numpy's \"reshape\" method: it reshapes x's dimensions to be N x ??, where ?? is allowed to be anything (in this case, it will be C x H x W, but we don't need to specify that explicitly). "
   ]
  },
  {
   "cell_type": "code",
   "execution_count": 4,
   "metadata": {
    "colab": {
     "base_uri": "https://localhost:8080/"
    },
    "executionInfo": {
     "elapsed": 595,
     "status": "ok",
     "timestamp": 1613045128551,
     "user": {
      "displayName": "Soufian Benamara",
      "photoUrl": "https://lh3.googleusercontent.com/a-/AOh14Gj7-UwGIuLvBwNdi62Q2pMRjoHrgtEm3LZkyGEWZw=s64",
      "userId": "08596286217915945464"
     },
     "user_tz": -60
    },
    "id": "juasjU6xrsgA",
    "outputId": "5229cb80-7a88-490c-99f1-54f6a655d407",
    "tags": [
     "pdf-ignore-input"
    ]
   },
   "outputs": [
    {
     "name": "stdout",
     "output_type": "stream",
     "text": [
      "Before flattening:  tensor([[[[ 0,  1],\n",
      "          [ 2,  3],\n",
      "          [ 4,  5]]],\n",
      "\n",
      "\n",
      "        [[[ 6,  7],\n",
      "          [ 8,  9],\n",
      "          [10, 11]]]])\n",
      "After flattening:  tensor([[ 0,  1,  2,  3,  4,  5],\n",
      "        [ 6,  7,  8,  9, 10, 11]])\n"
     ]
    }
   ],
   "source": [
    "def flatten(x):\n",
    "    N = x.shape[0] # read in N, C, H, W\n",
    "    return x.view(N, -1)  # \"flatten\" the C * H * W values into a single vector per image\n",
    "\n",
    "def test_flatten():\n",
    "    x = torch.arange(12).view(2, 1, 3, 2)\n",
    "    print('Before flattening: ', x)\n",
    "    print('After flattening: ', flatten(x))\n",
    "\n",
    "test_flatten()"
   ]
  },
  {
   "cell_type": "markdown",
   "metadata": {
    "id": "RVG8mWYtrsgB",
    "tags": [
     "pdf-ignore"
    ]
   },
   "source": [
    "### Barebones PyTorch: Two-Layer Network\n",
    "\n",
    "Here we define a function `two_layer_fc` which performs the forward pass of a two-layer fully-connected ReLU network on a batch of image data. After defining the forward pass we check that it doesn't crash and that it produces outputs of the right shape by running zeros through the network.\n",
    "\n",
    "You don't have to write any code here, but it's important that you read and understand the implementation."
   ]
  },
  {
   "cell_type": "code",
   "execution_count": 5,
   "metadata": {
    "colab": {
     "base_uri": "https://localhost:8080/"
    },
    "executionInfo": {
     "elapsed": 614,
     "status": "ok",
     "timestamp": 1613045133585,
     "user": {
      "displayName": "Soufian Benamara",
      "photoUrl": "https://lh3.googleusercontent.com/a-/AOh14Gj7-UwGIuLvBwNdi62Q2pMRjoHrgtEm3LZkyGEWZw=s64",
      "userId": "08596286217915945464"
     },
     "user_tz": -60
    },
    "id": "qeR4HPGsrsgB",
    "outputId": "8f48b86f-8c0a-4234-86e9-8a9270c29228",
    "tags": [
     "pdf-ignore-input"
    ]
   },
   "outputs": [
    {
     "name": "stdout",
     "output_type": "stream",
     "text": [
      "torch.Size([64, 10])\n"
     ]
    }
   ],
   "source": [
    "import torch.nn.functional as F  # useful stateless functions\n",
    "\n",
    "def two_layer_fc(x, params):\n",
    "    \"\"\"\n",
    "    A fully-connected neural networks; the architecture is:\n",
    "    NN is fully connected -> ReLU -> fully connected layer.\n",
    "    Note that this function only defines the forward pass; \n",
    "    PyTorch will take care of the backward pass for us.\n",
    "    \n",
    "    The input to the network will be a minibatch of data, of shape\n",
    "    (N, d1, ..., dM) where d1 * ... * dM = D. The hidden layer will have H units,\n",
    "    and the output layer will produce scores for C classes.\n",
    "    \n",
    "    Inputs:\n",
    "    - x: A PyTorch Tensor of shape (N, d1, ..., dM) giving a minibatch of\n",
    "      input data.\n",
    "    - params: A list [w1, w2] of PyTorch Tensors giving weights for the network;\n",
    "      w1 has shape (D, H) and w2 has shape (H, C).\n",
    "    \n",
    "    Returns:\n",
    "    - scores: A PyTorch Tensor of shape (N, C) giving classification scores for\n",
    "      the input data x.\n",
    "    \"\"\"\n",
    "    # first we flatten the image\n",
    "    x = flatten(x)  # shape: [batch_size, C x H x W]\n",
    "    \n",
    "    w1, w2 = params\n",
    "    \n",
    "    # Forward pass: compute predicted y using operations on Tensors. Since w1 and\n",
    "    # w2 have requires_grad=True, operations involving these Tensors will cause\n",
    "    # PyTorch to build a computational graph, allowing automatic computation of\n",
    "    # gradients. Since we are no longer implementing the backward pass by hand we\n",
    "    # don't need to keep references to intermediate values.\n",
    "    # you can also use `.clamp(min=0)`, equivalent to F.relu()\n",
    "    x = F.relu(x.mm(w1))\n",
    "    x = x.mm(w2)\n",
    "    return x\n",
    "    \n",
    "\n",
    "def two_layer_fc_test():\n",
    "    hidden_layer_size = 42\n",
    "    x = torch.zeros((64, 50), dtype=dtype)  # minibatch size 64, feature dimension 50\n",
    "    w1 = torch.zeros((50, hidden_layer_size), dtype=dtype)\n",
    "    w2 = torch.zeros((hidden_layer_size, 10), dtype=dtype)\n",
    "    scores = two_layer_fc(x, [w1, w2])\n",
    "    print(scores.size())  # you should see [64, 10]\n",
    "\n",
    "two_layer_fc_test()"
   ]
  },
  {
   "cell_type": "markdown",
   "metadata": {
    "id": "6tyz11uVrsgB"
   },
   "source": [
    "### Barebones PyTorch: Three-Layer ConvNet\n",
    "\n",
    "Here you will complete the implementation of the function `three_layer_convnet`, which will perform the forward pass of a three-layer convolutional network. Like above, we can immediately test our implementation by passing zeros through the network. The network should have the following architecture:\n",
    "\n",
    "1. A convolutional layer (with bias) with `channel_1` filters, each with shape `KW1 x KH1`, and zero-padding of two\n",
    "2. ReLU nonlinearity\n",
    "3. A convolutional layer (with bias) with `channel_2` filters, each with shape `KW2 x KH2`, and zero-padding of one\n",
    "4. ReLU nonlinearity\n",
    "5. Fully-connected layer with bias, producing scores for C classes.\n",
    "\n",
    "Note that we have **no softmax activation** here after our fully-connected layer: this is because PyTorch's cross entropy loss performs a softmax activation for you, and by bundling that step in makes computation more efficient.\n",
    "\n",
    "**HINT**: For convolutions: http://pytorch.org/docs/stable/nn.html#torch.nn.functional.conv2d; pay attention to the shapes of convolutional filters!"
   ]
  },
  {
   "cell_type": "code",
   "execution_count": 6,
   "metadata": {
    "id": "m1-6at5YrsgC"
   },
   "outputs": [],
   "source": [
    "def three_layer_convnet(x, params):\n",
    "    \"\"\"\n",
    "    Performs the forward pass of a three-layer convolutional network with the\n",
    "    architecture defined above.\n",
    "\n",
    "    Inputs:\n",
    "    - x: A PyTorch Tensor of shape (N, 3, H, W) giving a minibatch of images\n",
    "    - params: A list of PyTorch Tensors giving the weights and biases for the\n",
    "      network; should contain the following:\n",
    "      - conv_w1: PyTorch Tensor of shape (channel_1, 3, KH1, KW1) giving weights\n",
    "        for the first convolutional layer\n",
    "      - conv_b1: PyTorch Tensor of shape (channel_1,) giving biases for the first\n",
    "        convolutional layer\n",
    "      - conv_w2: PyTorch Tensor of shape (channel_2, channel_1, KH2, KW2) giving\n",
    "        weights for the second convolutional layer\n",
    "      - conv_b2: PyTorch Tensor of shape (channel_2,) giving biases for the second\n",
    "        convolutional layer\n",
    "      - fc_w: PyTorch Tensor giving weights for the fully-connected layer. Can you\n",
    "        figure out what the shape should be?\n",
    "      - fc_b: PyTorch Tensor giving biases for the fully-connected layer. Can you\n",
    "        figure out what the shape should be?\n",
    "    \n",
    "    Returns:\n",
    "    - scores: PyTorch Tensor of shape (N, C) giving classification scores for x\n",
    "    \"\"\"\n",
    "    conv_w1, conv_b1, conv_w2, conv_b2, fc_w, fc_b = params\n",
    "    scores = None\n",
    "    ################################################################################\n",
    "    # Implement the forward pass for the three-layer ConvNet.                      #\n",
    "    ################################################################################\n",
    "\n",
    "    # Forward pass for the 1st layer: conv-relu.\n",
    "    x = F.conv2d(x, conv_w1, conv_b1, padding=2)\n",
    "    x = F.relu(x)\n",
    "    # Forward pass for the 2nd layer: conv-relu.\n",
    "    x = F.conv2d(x, conv_w2, conv_b2, padding=1)\n",
    "    x = F.relu(x)\n",
    "    # Flatten 'x' before passing it to the Fully-Connected layer,\n",
    "    # i.e. Reshape it from (N, X, Y, Z) to (N, X*Y*Z).\n",
    "    x = flatten(x)\n",
    "    # Forward pass for the Fully-Connected layer. The output is 'scores'.\n",
    "    scores = x.mm(fc_w) + fc_b\n",
    "    \n",
    "    return scores"
   ]
  },
  {
   "cell_type": "markdown",
   "metadata": {
    "id": "7nwYJyOYrsgC"
   },
   "source": [
    "After defining the forward pass of the ConvNet above, run the following cell to test your implementation.\n",
    "\n",
    "When you run this function, scores should have shape (64, 10)."
   ]
  },
  {
   "cell_type": "code",
   "execution_count": 7,
   "metadata": {
    "colab": {
     "base_uri": "https://localhost:8080/"
    },
    "executionInfo": {
     "elapsed": 897,
     "status": "ok",
     "timestamp": 1612962683595,
     "user": {
      "displayName": "Soufian Benamara",
      "photoUrl": "https://lh3.googleusercontent.com/a-/AOh14Gj7-UwGIuLvBwNdi62Q2pMRjoHrgtEm3LZkyGEWZw=s64",
      "userId": "08596286217915945464"
     },
     "user_tz": -60
    },
    "id": "barebones_output_shape",
    "outputId": "b813591f-4a6d-48d9-da41-b27722b22cd9",
    "tags": [
     "pdf-ignore-input"
    ]
   },
   "outputs": [
    {
     "name": "stdout",
     "output_type": "stream",
     "text": [
      "torch.Size([64, 10])\n"
     ]
    }
   ],
   "source": [
    "def three_layer_convnet_test():\n",
    "    x = torch.zeros((64, 3, 32, 32), dtype=dtype)  # minibatch size 64, image size [3, 32, 32]\n",
    "\n",
    "    conv_w1 = torch.zeros((6, 3, 5, 5), dtype=dtype)  # [out_channel, in_channel, kernel_H, kernel_W]\n",
    "    conv_b1 = torch.zeros((6,))  # out_channel\n",
    "    conv_w2 = torch.zeros((9, 6, 3, 3), dtype=dtype)  # [out_channel, in_channel, kernel_H, kernel_W]\n",
    "    conv_b2 = torch.zeros((9,))  # out_channel\n",
    "\n",
    "    # you must calculate the shape of the tensor after two conv layers, before the fully-connected layer\n",
    "    fc_w = torch.zeros((9 * 32 * 32, 10))\n",
    "    fc_b = torch.zeros(10)\n",
    "\n",
    "    scores = three_layer_convnet(x, [conv_w1, conv_b1, conv_w2, conv_b2, fc_w, fc_b])\n",
    "    print(scores.size())  # you should see [64, 10]\n",
    "three_layer_convnet_test()"
   ]
  },
  {
   "cell_type": "markdown",
   "metadata": {
    "id": "b3DCUu84rsgC"
   },
   "source": [
    "### Barebones PyTorch: Initialization\n",
    "Let's write a couple utility methods to initialize the weight matrices for our models.\n",
    "\n",
    "- `random_weight(shape)` initializes a weight tensor with the Kaiming normalization method.\n",
    "- `zero_weight(shape)` initializes a weight tensor with all zeros. Useful for instantiating bias parameters.\n",
    "\n",
    "The `random_weight` function uses the Kaiming normal initialization method, described in:\n",
    "\n",
    "He et al, *Delving Deep into Rectifiers: Surpassing Human-Level Performance on ImageNet Classification*, ICCV 2015, https://arxiv.org/abs/1502.01852"
   ]
  },
  {
   "cell_type": "code",
   "execution_count": 8,
   "metadata": {
    "colab": {
     "base_uri": "https://localhost:8080/"
    },
    "executionInfo": {
     "elapsed": 11035,
     "status": "ok",
     "timestamp": 1613045152092,
     "user": {
      "displayName": "Soufian Benamara",
      "photoUrl": "https://lh3.googleusercontent.com/a-/AOh14Gj7-UwGIuLvBwNdi62Q2pMRjoHrgtEm3LZkyGEWZw=s64",
      "userId": "08596286217915945464"
     },
     "user_tz": -60
    },
    "id": "Z_uf4FNprsgD",
    "outputId": "4ae4c813-4215-48fa-e412-90b7d3401e7f",
    "tags": [
     "pdf-ignore-input"
    ]
   },
   "outputs": [
    {
     "data": {
      "text/plain": [
       "tensor([[ 1.2810,  0.4609, -0.0119, -0.0101, -0.4053],\n",
       "        [ 0.8237,  1.0895, -0.5494, -0.0400,  0.3608],\n",
       "        [ 0.3293,  0.6957, -1.1394,  0.0320,  0.2828]], requires_grad=True)"
      ]
     },
     "execution_count": 8,
     "metadata": {},
     "output_type": "execute_result"
    }
   ],
   "source": [
    "def random_weight(shape):\n",
    "    \"\"\"\n",
    "    Create random Tensors for weights; setting requires_grad=True means that we\n",
    "    want to compute gradients for these Tensors during the backward pass.\n",
    "    We use Kaiming normalization: sqrt(2 / fan_in)\n",
    "    \"\"\"\n",
    "    if len(shape) == 2:  # FC weight\n",
    "        fan_in = shape[0]\n",
    "    else:\n",
    "        fan_in = np.prod(shape[1:]) # conv weight [out_channel, in_channel, kH, kW]\n",
    "    # randn is standard normal distribution generator. \n",
    "    w = torch.randn(shape, device=device, dtype=dtype) * np.sqrt(2. / fan_in)\n",
    "    w.requires_grad = True\n",
    "    return w\n",
    "\n",
    "def zero_weight(shape):\n",
    "    return torch.zeros(shape, device=device, dtype=dtype, requires_grad=True)\n",
    "\n",
    "# create a weight of shape [3 x 5]\n",
    "# you should see the type `torch.cuda.FloatTensor` if you use GPU. \n",
    "# Otherwise it should be `torch.FloatTensor`\n",
    "random_weight((3, 5))"
   ]
  },
  {
   "cell_type": "markdown",
   "metadata": {
    "id": "JmymrlwLrsgD"
   },
   "source": [
    "### Barebones PyTorch: Check Accuracy\n",
    "When training the model we will use the following function to check the accuracy of our model on the training or validation sets.\n",
    "\n",
    "When checking accuracy we don't need to compute any gradients; as a result we don't need PyTorch to build a computational graph for us when we compute scores. To prevent a graph from being built we scope our computation under a `torch.no_grad()` context manager."
   ]
  },
  {
   "cell_type": "code",
   "execution_count": 9,
   "metadata": {
    "id": "HDYFHRa9rsgD",
    "tags": [
     "pdf-ignore-input"
    ]
   },
   "outputs": [],
   "source": [
    "def check_accuracy_part2(loader, model_fn, params):\n",
    "    \"\"\"\n",
    "    Check the accuracy of a classification model.\n",
    "    \n",
    "    Inputs:\n",
    "    - loader: A DataLoader for the data split we want to check\n",
    "    - model_fn: A function that performs the forward pass of the model,\n",
    "      with the signature scores = model_fn(x, params)\n",
    "    - params: List of PyTorch Tensors giving parameters of the model\n",
    "    \n",
    "    Returns: Nothing, but prints the accuracy of the model\n",
    "    \"\"\"\n",
    "    split = 'val' if loader.dataset.train else 'test'\n",
    "    print('Checking accuracy on the %s set' % split)\n",
    "    num_correct, num_samples = 0, 0\n",
    "    with torch.no_grad():\n",
    "        for x, y in loader:\n",
    "            x = x.to(device=device, dtype=dtype)  # move to device, e.g. GPU\n",
    "            y = y.to(device=device, dtype=torch.int64)\n",
    "            scores = model_fn(x, params)\n",
    "            _, preds = scores.max(1)\n",
    "            num_correct += (preds == y).sum()\n",
    "            num_samples += preds.size(0)\n",
    "        acc = float(num_correct) / num_samples\n",
    "        print('Got %d / %d correct (%.2f%%)' % (num_correct, num_samples, 100 * acc))"
   ]
  },
  {
   "cell_type": "markdown",
   "metadata": {
    "id": "KlOhX4myrsgD"
   },
   "source": [
    "### BareBones PyTorch: Training Loop\n",
    "We can now set up a basic training loop to train our network. We will train the model using stochastic gradient descent without momentum. We will use `torch.functional.cross_entropy` to compute the loss; you can [read about it here](http://pytorch.org/docs/stable/nn.html#cross-entropy).\n",
    "\n",
    "The training loop takes as input the neural network function, a list of initialized parameters (`[w1, w2]` in our example), and learning rate."
   ]
  },
  {
   "cell_type": "code",
   "execution_count": 10,
   "metadata": {
    "id": "JPz2olLWrsgD",
    "tags": [
     "pdf-ignore-input"
    ]
   },
   "outputs": [],
   "source": [
    "def train_part2(model_fn, params, learning_rate):\n",
    "    \"\"\"\n",
    "    Train a model on CIFAR-10.\n",
    "    \n",
    "    Inputs:\n",
    "    - model_fn: A Python function that performs the forward pass of the model.\n",
    "      It should have the signature scores = model_fn(x, params) where x is a\n",
    "      PyTorch Tensor of image data, params is a list of PyTorch Tensors giving\n",
    "      model weights, and scores is a PyTorch Tensor of shape (N, C) giving\n",
    "      scores for the elements in x.\n",
    "    - params: List of PyTorch Tensors giving weights for the model\n",
    "    - learning_rate: Python scalar giving the learning rate to use for SGD\n",
    "    \n",
    "    Returns: Nothing\n",
    "    \"\"\"\n",
    "    for t, (x, y) in enumerate(loader_train):\n",
    "        # Move the data to the proper device (GPU or CPU)\n",
    "        x = x.to(device=device, dtype=dtype)\n",
    "        y = y.to(device=device, dtype=torch.long)\n",
    "\n",
    "        # Forward pass: compute scores and loss\n",
    "        scores = model_fn(x, params)\n",
    "        loss = F.cross_entropy(scores, y)\n",
    "\n",
    "        # Backward pass: PyTorch figures out which Tensors in the computational\n",
    "        # graph has requires_grad=True and uses backpropagation to compute the\n",
    "        # gradient of the loss with respect to these Tensors, and stores the\n",
    "        # gradients in the .grad attribute of each Tensor.\n",
    "        loss.backward()\n",
    "\n",
    "        # Update parameters. We don't want to backpropagate through the\n",
    "        # parameter updates, so we scope the updates under a torch.no_grad()\n",
    "        # context manager to prevent a computational graph from being built.\n",
    "        with torch.no_grad():\n",
    "            for w in params:\n",
    "                w -= learning_rate * w.grad\n",
    "\n",
    "                # Manually zero the gradients after running the backward pass\n",
    "                w.grad.zero_()\n",
    "\n",
    "        if t % print_every == 0:\n",
    "            print('Iteration %d, loss = %.4f' % (t, loss.item()))\n",
    "            check_accuracy_part2(loader_val, model_fn, params)\n",
    "            print()"
   ]
  },
  {
   "cell_type": "markdown",
   "metadata": {
    "id": "_0tcAT8ZrsgE"
   },
   "source": [
    "### BareBones PyTorch: Train a Two-Layer Network\n",
    "Now we are ready to run the training loop. We need to explicitly allocate tensors for the fully connected weights, `w1` and `w2`. \n",
    "\n",
    "Each minibatch of CIFAR has 64 examples, so the tensor shape is `[64, 3, 32, 32]`. \n",
    "\n",
    "After flattening, `x` shape should be `[64, 3 * 32 * 32]`. This will be the size of the first dimension of `w1`. \n",
    "The second dimension of `w1` is the hidden layer size, which will also be the first dimension of `w2`. \n",
    "\n",
    "Finally, the output of the network is a 10-dimensional vector that represents the probability distribution over 10 classes. \n",
    "\n",
    "You don't need to tune any hyperparameters but you should see accuracies above 40% after training for one epoch."
   ]
  },
  {
   "cell_type": "code",
   "execution_count": 11,
   "metadata": {
    "colab": {
     "base_uri": "https://localhost:8080/"
    },
    "executionInfo": {
     "elapsed": 93839,
     "status": "ok",
     "timestamp": 1612963604874,
     "user": {
      "displayName": "Soufian Benamara",
      "photoUrl": "https://lh3.googleusercontent.com/a-/AOh14Gj7-UwGIuLvBwNdi62Q2pMRjoHrgtEm3LZkyGEWZw=s64",
      "userId": "08596286217915945464"
     },
     "user_tz": -60
    },
    "id": "-0J-DW3VrsgE",
    "outputId": "0597cd71-b642-469c-947d-2c6986ddd821"
   },
   "outputs": [
    {
     "name": "stdout",
     "output_type": "stream",
     "text": [
      "Iteration 0, loss = 3.3703\n",
      "Checking accuracy on the val set\n",
      "Got 120 / 1000 correct (12.00%)\n",
      "\n",
      "Iteration 100, loss = 2.2619\n",
      "Checking accuracy on the val set\n",
      "Got 364 / 1000 correct (36.40%)\n",
      "\n",
      "Iteration 200, loss = 2.2167\n",
      "Checking accuracy on the val set\n",
      "Got 337 / 1000 correct (33.70%)\n",
      "\n",
      "Iteration 300, loss = 1.6788\n",
      "Checking accuracy on the val set\n",
      "Got 402 / 1000 correct (40.20%)\n",
      "\n",
      "Iteration 400, loss = 2.1026\n",
      "Checking accuracy on the val set\n",
      "Got 413 / 1000 correct (41.30%)\n",
      "\n",
      "Iteration 500, loss = 1.8574\n",
      "Checking accuracy on the val set\n",
      "Got 428 / 1000 correct (42.80%)\n",
      "\n",
      "Iteration 600, loss = 1.7918\n",
      "Checking accuracy on the val set\n",
      "Got 444 / 1000 correct (44.40%)\n",
      "\n",
      "Iteration 700, loss = 1.8563\n",
      "Checking accuracy on the val set\n",
      "Got 444 / 1000 correct (44.40%)\n",
      "\n"
     ]
    }
   ],
   "source": [
    "hidden_layer_size = 4000\n",
    "learning_rate = 1e-2\n",
    "\n",
    "w1 = random_weight((3 * 32 * 32, hidden_layer_size))\n",
    "w2 = random_weight((hidden_layer_size, 10))\n",
    "\n",
    "train_part2(two_layer_fc, [w1, w2], learning_rate)"
   ]
  },
  {
   "cell_type": "markdown",
   "metadata": {
    "id": "nd_HobRersgE"
   },
   "source": [
    "### BareBones PyTorch: Training a ConvNet\n",
    "\n",
    "In the below you should use the functions defined above to train a three-layer convolutional network on CIFAR. The network should have the following architecture:\n",
    "\n",
    "1. Convolutional layer (with bias) with 32 5x5 filters, with zero-padding of 2\n",
    "2. ReLU\n",
    "3. Convolutional layer (with bias) with 16 3x3 filters, with zero-padding of 1\n",
    "4. ReLU\n",
    "5. Fully-connected layer (with bias) to compute scores for 10 classes\n",
    "\n",
    "You should initialize your weight matrices using the `random_weight` function defined above, and you should initialize your bias vectors using the `zero_weight` function above.\n",
    "\n",
    "You don't need to tune any hyperparameters, but if everything works correctly you should achieve an accuracy above 42% after one epoch."
   ]
  },
  {
   "cell_type": "code",
   "execution_count": 12,
   "metadata": {
    "colab": {
     "base_uri": "https://localhost:8080/"
    },
    "executionInfo": {
     "elapsed": 78494,
     "status": "ok",
     "timestamp": 1612964667521,
     "user": {
      "displayName": "Soufian Benamara",
      "photoUrl": "https://lh3.googleusercontent.com/a-/AOh14Gj7-UwGIuLvBwNdi62Q2pMRjoHrgtEm3LZkyGEWZw=s64",
      "userId": "08596286217915945464"
     },
     "user_tz": -60
    },
    "id": "barebones_accuracy",
    "outputId": "170ff9e9-4d2d-4ab3-c692-707a62c2212f"
   },
   "outputs": [
    {
     "name": "stdout",
     "output_type": "stream",
     "text": [
      "Iteration 0, loss = 3.2482\n",
      "Checking accuracy on the val set\n",
      "Got 104 / 1000 correct (10.40%)\n",
      "\n",
      "Iteration 100, loss = 1.9873\n",
      "Checking accuracy on the val set\n",
      "Got 373 / 1000 correct (37.30%)\n",
      "\n",
      "Iteration 200, loss = 1.7716\n",
      "Checking accuracy on the val set\n",
      "Got 403 / 1000 correct (40.30%)\n",
      "\n",
      "Iteration 300, loss = 1.8807\n",
      "Checking accuracy on the val set\n",
      "Got 448 / 1000 correct (44.80%)\n",
      "\n",
      "Iteration 400, loss = 1.6664\n",
      "Checking accuracy on the val set\n",
      "Got 461 / 1000 correct (46.10%)\n",
      "\n",
      "Iteration 500, loss = 1.6216\n",
      "Checking accuracy on the val set\n",
      "Got 478 / 1000 correct (47.80%)\n",
      "\n",
      "Iteration 600, loss = 1.5275\n",
      "Checking accuracy on the val set\n",
      "Got 485 / 1000 correct (48.50%)\n",
      "\n",
      "Iteration 700, loss = 1.5333\n",
      "Checking accuracy on the val set\n",
      "Got 511 / 1000 correct (51.10%)\n",
      "\n"
     ]
    }
   ],
   "source": [
    "learning_rate = 3e-3\n",
    "\n",
    "channel_1 = 32\n",
    "channel_2 = 16\n",
    "\n",
    "conv_w1 = None\n",
    "conv_b1 = None\n",
    "conv_w2 = None\n",
    "conv_b2 = None\n",
    "fc_w = None\n",
    "fc_b = None\n",
    "\n",
    "################################################################################\n",
    "#          Initialize the parameters of a three-layer ConvNet.                 #\n",
    "################################################################################\n",
    "\n",
    "# conv_w1 shape is: (F1, C, H1, W1) = (32, 3, 5, 5).\n",
    "# Where, F1: Number of filters, C: Number of channels, H1/W1: Filters height/width.\n",
    "# The output shape is: (N, F1, H, W) = (64, 32, 32, 32).\n",
    "# Where, N: Minibatch size, H/W: height/width of 'x'.\n",
    "# Note that the `conv1` layer dimension was designed to preserve the 'x' original H/W.\n",
    "conv_w1 = random_weight((channel_1, 3, 5, 5))\n",
    "# Each filter has its own bias.\n",
    "conv_b1 = zero_weight(channel_1)\n",
    "# conv_w2 shape is: (F2, F1, H2, W2) = (16, 32, 3, 3).\n",
    "# Output shape is: (N, F2, H, W) = (64, 16, 32, 32).\n",
    "conv_w2 = random_weight((channel_2, channel_1, 3, 3))\n",
    "conv_b2 = zero_weight(channel_2)\n",
    "# fc_w shape is: (F2*H*W, Cls) = (16*32*32, 10), where 'Cls' is the number of classes.\n",
    "# Output shape is: (N, Cls) = (64, 10).\n",
    "fc_w = random_weight((channel_2*32*32, 10))\n",
    "fc_b = zero_weight(10)\n",
    "\n",
    "params = [conv_w1, conv_b1, conv_w2, conv_b2, fc_w, fc_b]\n",
    "train_part2(three_layer_convnet, params, learning_rate)"
   ]
  },
  {
   "cell_type": "markdown",
   "metadata": {
    "id": "cS_Q0-5trsgE"
   },
   "source": [
    "# Part III. PyTorch Module API\n",
    "\n",
    "Barebone PyTorch requires that we track all the parameter tensors by hand. This is fine for small networks with a few tensors, but it would be extremely inconvenient and error-prone to track tens or hundreds of tensors in larger networks.\n",
    "\n",
    "PyTorch provides the `nn.Module` API for you to define arbitrary network architectures, while tracking every learnable parameters for you. In Part II, we implemented SGD ourselves. PyTorch also provides the `torch.optim` package that implements all the common optimizers, such as RMSProp, Adagrad, and Adam. It even supports approximate second-order methods like L-BFGS! You can refer to the [doc](http://pytorch.org/docs/master/optim.html) for the exact specifications of each optimizer.\n",
    "\n",
    "To use the Module API, follow the steps below:\n",
    "\n",
    "1. Subclass `nn.Module`. Give your network class an intuitive name like `TwoLayerFC`. \n",
    "\n",
    "2. In the constructor `__init__()`, define all the layers you need as class attributes. Layer objects like `nn.Linear` and `nn.Conv2d` are themselves `nn.Module` subclasses and contain learnable parameters, so that you don't have to instantiate the raw tensors yourself. `nn.Module` will track these internal parameters for you. Refer to the [doc](http://pytorch.org/docs/master/nn.html) to learn more about the dozens of builtin layers. **Warning**: don't forget to call the `super().__init__()` first!\n",
    "\n",
    "3. In the `forward()` method, define the *connectivity* of your network. You should use the attributes defined in `__init__` as function calls that take tensor as input and output the \"transformed\" tensor. Do *not* create any new layers with learnable parameters in `forward()`! All of them must be declared upfront in `__init__`. \n",
    "\n",
    "After you define your Module subclass, you can instantiate it as an object and call it just like the NN forward function in part II.\n",
    "\n",
    "### Module API: Two-Layer Network\n",
    "Here is a concrete example of a 2-layer fully connected network:"
   ]
  },
  {
   "cell_type": "code",
   "execution_count": 13,
   "metadata": {
    "colab": {
     "base_uri": "https://localhost:8080/"
    },
    "executionInfo": {
     "elapsed": 815,
     "status": "ok",
     "timestamp": 1612980408674,
     "user": {
      "displayName": "Soufian Benamara",
      "photoUrl": "https://lh3.googleusercontent.com/a-/AOh14Gj7-UwGIuLvBwNdi62Q2pMRjoHrgtEm3LZkyGEWZw=s64",
      "userId": "08596286217915945464"
     },
     "user_tz": -60
    },
    "id": "Uh71BkT7rsgE",
    "outputId": "5a04d191-c318-471e-c074-74a228c8ca66"
   },
   "outputs": [
    {
     "name": "stdout",
     "output_type": "stream",
     "text": [
      "torch.Size([64, 10])\n"
     ]
    }
   ],
   "source": [
    "class TwoLayerFC(nn.Module):\n",
    "    def __init__(self, input_size, hidden_size, num_classes):\n",
    "        super().__init__()\n",
    "        # assign layer objects to class attributes\n",
    "        self.fc1 = nn.Linear(input_size, hidden_size)\n",
    "        # nn.init package contains convenient initialization methods\n",
    "        # http://pytorch.org/docs/master/nn.html#torch-nn-init \n",
    "        nn.init.kaiming_normal_(self.fc1.weight)\n",
    "        self.fc2 = nn.Linear(hidden_size, num_classes)\n",
    "        nn.init.kaiming_normal_(self.fc2.weight)\n",
    "    \n",
    "    def forward(self, x):\n",
    "        # forward always defines connectivity\n",
    "        x = flatten(x)\n",
    "        scores = self.fc2(F.relu(self.fc1(x)))\n",
    "        return scores\n",
    "\n",
    "def test_TwoLayerFC():\n",
    "    input_size = 50\n",
    "    x = torch.zeros((64, input_size), dtype=dtype)  # minibatch size 64, feature dimension 50\n",
    "    model = TwoLayerFC(input_size, 42, 10)\n",
    "    scores = model(x)\n",
    "    print(scores.size())  # you should see [64, 10]\n",
    "test_TwoLayerFC()"
   ]
  },
  {
   "cell_type": "markdown",
   "metadata": {
    "id": "J69sq7bwrsgF"
   },
   "source": [
    "### Module API: Three-Layer ConvNet\n",
    "It's your turn to implement a 3-layer ConvNet followed by a fully connected layer. The network architecture should be the same as in Part II:\n",
    "\n",
    "1. Convolutional layer with `channel_1` 5x5 filters with zero-padding of 2\n",
    "2. ReLU\n",
    "3. Convolutional layer with `channel_2` 3x3 filters with zero-padding of 1\n",
    "4. ReLU\n",
    "5. Fully-connected layer to `num_classes` classes\n",
    "\n",
    "You should initialize the weight matrices of the model using the Kaiming normal initialization method.\n",
    "\n",
    "**HINT**: http://pytorch.org/docs/stable/nn.html#conv2d\n",
    "\n",
    "After you implement the three-layer ConvNet, the `test_ThreeLayerConvNet` function will run your implementation; it should print `(64, 10)` for the shape of the output scores."
   ]
  },
  {
   "cell_type": "code",
   "execution_count": 14,
   "metadata": {
    "colab": {
     "base_uri": "https://localhost:8080/"
    },
    "executionInfo": {
     "elapsed": 636,
     "status": "ok",
     "timestamp": 1612980411014,
     "user": {
      "displayName": "Soufian Benamara",
      "photoUrl": "https://lh3.googleusercontent.com/a-/AOh14Gj7-UwGIuLvBwNdi62Q2pMRjoHrgtEm3LZkyGEWZw=s64",
      "userId": "08596286217915945464"
     },
     "user_tz": -60
    },
    "id": "module_output_shape",
    "outputId": "455f0641-9b20-456d-ec1f-f8033ccaa26b"
   },
   "outputs": [
    {
     "name": "stdout",
     "output_type": "stream",
     "text": [
      "torch.Size([64, 10])\n"
     ]
    }
   ],
   "source": [
    "class ThreeLayerConvNet(nn.Module):\n",
    "    def __init__(self, in_channel, channel_1, channel_2, num_classes):\n",
    "        super().__init__()\n",
    "        ########################################################################\n",
    "        # Set up the layers you need for a three-layer ConvNet with the        #\n",
    "        # architecture defined above.                                          #\n",
    "        ########################################################################\n",
    "\n",
    "        # Define the 1st convolution layer and initialize its weights.\n",
    "        self.conv1 = nn.Conv2d(in_channel, channel_1, 5, padding=2)\n",
    "        nn.init.kaiming_normal_(self.conv1.weight)\n",
    "\n",
    "        # Define the 2nd convolution layer and initialize its weights.\n",
    "        self.conv2 = nn.Conv2d(channel_1, channel_2, 3, padding=1)\n",
    "        nn.init.kaiming_normal_(self.conv2.weight)\n",
    "\n",
    "        # Define the FC layer and initialize its weights. The FC 'hidden_size'\n",
    "        # will be the result of flattening previous layer (conv2) output.\n",
    "        hidden_size = channel_2 * 32 * 32\n",
    "        self.fc = nn.Linear(hidden_size, num_classes)\n",
    "        nn.init.kaiming_normal_(self.fc.weight)\n",
    "\n",
    "\n",
    "    def forward(self, x):\n",
    "        scores = None\n",
    "        ########################################################################\n",
    "        #    Implement the forward function for a 3-layer ConvNet.             #\n",
    "        # you should use the layers you defined in __init__ and specify the    #\n",
    "        # connectivity of those layers in forward()                            #\n",
    "        ########################################################################\n",
    "\n",
    "        # Forward 'x' through conv1-relu, then (the previous output) conv2-relu.\n",
    "        convsout = F.relu(self.conv1(x))\n",
    "        convsout = F.relu(self.conv2(convsout))\n",
    "\n",
    "        # Flatten 'convsout' to meet the FC layer 'dot' operation needed shape.\n",
    "        convsout = flatten(convsout)\n",
    "        # Forward flattened 'convsout' through the FC layer.\n",
    "        scores = self.fc(convsout)\n",
    "\n",
    "        return scores\n",
    "\n",
    "\n",
    "def test_ThreeLayerConvNet():\n",
    "    x = torch.zeros((64, 3, 32, 32), dtype=dtype)  # minibatch size 64, image size [3, 32, 32]\n",
    "    model = ThreeLayerConvNet(in_channel=3, channel_1=12, channel_2=8, num_classes=10)\n",
    "    scores = model(x)\n",
    "    print(scores.size())  # you should see [64, 10]\n",
    "test_ThreeLayerConvNet()"
   ]
  },
  {
   "cell_type": "markdown",
   "metadata": {
    "id": "YhqbTq3hrsgF"
   },
   "source": [
    "### Module API: Check Accuracy\n",
    "Given the validation or test set, we can check the classification accuracy of a neural network. \n",
    "\n",
    "This version is slightly different from the one in part II. You don't manually pass in the parameters anymore."
   ]
  },
  {
   "cell_type": "code",
   "execution_count": 15,
   "metadata": {
    "id": "iAoDl2HPrsgF"
   },
   "outputs": [],
   "source": [
    "def check_accuracy_part34(loader, model):\n",
    "    if loader.dataset.train:\n",
    "        print('Checking accuracy on validation set')\n",
    "    else:\n",
    "        print('Checking accuracy on test set')   \n",
    "    num_correct = 0\n",
    "    num_samples = 0\n",
    "    model.eval()  # set model to evaluation mode\n",
    "    with torch.no_grad():\n",
    "        for x, y in loader:\n",
    "            x = x.to(device=device, dtype=dtype)  # move to device, e.g. GPU\n",
    "            y = y.to(device=device, dtype=torch.long)\n",
    "            scores = model(x)\n",
    "            _, preds = scores.max(1)\n",
    "            num_correct += (preds == y).sum()\n",
    "            num_samples += preds.size(0)\n",
    "        acc = float(num_correct) / num_samples\n",
    "        print('Got %d / %d correct (%.2f)' % (num_correct, num_samples, 100 * acc))"
   ]
  },
  {
   "cell_type": "markdown",
   "metadata": {
    "id": "jcAyzENarsgF"
   },
   "source": [
    "### Module API: Training Loop\n",
    "We also use a slightly different training loop. Rather than updating the values of the weights ourselves, we use an Optimizer object from the `torch.optim` package, which abstract the notion of an optimization algorithm and provides implementations of most of the algorithms commonly used to optimize neural networks."
   ]
  },
  {
   "cell_type": "code",
   "execution_count": 16,
   "metadata": {
    "id": "6K4CP94ersgG"
   },
   "outputs": [],
   "source": [
    "def train_part34(model, optimizer, epochs=1):\n",
    "    \"\"\"\n",
    "    Train a model on CIFAR-10 using the PyTorch Module API.\n",
    "    \n",
    "    Inputs:\n",
    "    - model: A PyTorch Module giving the model to train.\n",
    "    - optimizer: An Optimizer object we will use to train the model\n",
    "    - epochs: (Optional) A Python integer giving the number of epochs to train for\n",
    "    \n",
    "    Returns: Nothing, but prints model accuracies during training.\n",
    "    \"\"\"\n",
    "    model = model.to(device=device)  # move the model parameters to CPU/GPU\n",
    "    for e in range(epochs):\n",
    "        for t, (x, y) in enumerate(loader_train):\n",
    "            model.train()  # put model to training mode\n",
    "            x = x.to(device=device, dtype=dtype)  # move to device, e.g. GPU\n",
    "            y = y.to(device=device, dtype=torch.long)\n",
    "\n",
    "            scores = model(x)\n",
    "            loss = F.cross_entropy(scores, y)\n",
    "\n",
    "            # Zero out all of the gradients for the variables which the optimizer\n",
    "            # will update.\n",
    "            optimizer.zero_grad()\n",
    "\n",
    "            # This is the backwards pass: compute the gradient of the loss with\n",
    "            # respect to each  parameter of the model.\n",
    "            loss.backward()\n",
    "\n",
    "            # Actually update the parameters of the model using the gradients\n",
    "            # computed by the backwards pass.\n",
    "            optimizer.step()\n",
    "\n",
    "            if t % print_every == 0:\n",
    "                print('Iteration %d, loss = %.4f' % (t, loss.item()))\n",
    "                check_accuracy_part34(loader_val, model)\n",
    "                print()"
   ]
  },
  {
   "cell_type": "markdown",
   "metadata": {
    "id": "gAqQ22TIrsgG"
   },
   "source": [
    "### Module API: Train a Two-Layer Network\n",
    "Now we are ready to run the training loop. In contrast to part II, we don't explicitly allocate parameter tensors anymore.\n",
    "\n",
    "Simply pass the input size, hidden layer size, and number of classes (i.e. output size) to the constructor of `TwoLayerFC`. \n",
    "\n",
    "You also need to define an optimizer that tracks all the learnable parameters inside `TwoLayerFC`.\n",
    "\n",
    "You don't need to tune any hyperparameters, but you should see model accuracies above 40% after training for one epoch."
   ]
  },
  {
   "cell_type": "code",
   "execution_count": 17,
   "metadata": {
    "colab": {
     "base_uri": "https://localhost:8080/"
    },
    "executionInfo": {
     "elapsed": 12584,
     "status": "ok",
     "timestamp": 1612981027711,
     "user": {
      "displayName": "Soufian Benamara",
      "photoUrl": "https://lh3.googleusercontent.com/a-/AOh14Gj7-UwGIuLvBwNdi62Q2pMRjoHrgtEm3LZkyGEWZw=s64",
      "userId": "08596286217915945464"
     },
     "user_tz": -60
    },
    "id": "e_D3kw6TrsgG",
    "outputId": "6e29e337-cef5-4b4e-f171-e104a630ede6"
   },
   "outputs": [
    {
     "name": "stdout",
     "output_type": "stream",
     "text": [
      "Iteration 0, loss = 3.3492\n",
      "Checking accuracy on validation set\n",
      "Got 119 / 1000 correct (11.90)\n",
      "\n",
      "Iteration 100, loss = 2.2870\n",
      "Checking accuracy on validation set\n",
      "Got 307 / 1000 correct (30.70)\n",
      "\n",
      "Iteration 200, loss = 1.7326\n",
      "Checking accuracy on validation set\n",
      "Got 377 / 1000 correct (37.70)\n",
      "\n",
      "Iteration 300, loss = 1.9990\n",
      "Checking accuracy on validation set\n",
      "Got 385 / 1000 correct (38.50)\n",
      "\n",
      "Iteration 400, loss = 1.6673\n",
      "Checking accuracy on validation set\n",
      "Got 432 / 1000 correct (43.20)\n",
      "\n",
      "Iteration 500, loss = 1.7972\n",
      "Checking accuracy on validation set\n",
      "Got 461 / 1000 correct (46.10)\n",
      "\n",
      "Iteration 600, loss = 1.9363\n",
      "Checking accuracy on validation set\n",
      "Got 435 / 1000 correct (43.50)\n",
      "\n",
      "Iteration 700, loss = 1.5005\n",
      "Checking accuracy on validation set\n",
      "Got 439 / 1000 correct (43.90)\n",
      "\n"
     ]
    }
   ],
   "source": [
    "hidden_layer_size = 4000\n",
    "learning_rate = 1e-2\n",
    "model = TwoLayerFC(3 * 32 * 32, hidden_layer_size, 10)\n",
    "optimizer = optim.SGD(model.parameters(), lr=learning_rate)\n",
    "\n",
    "train_part34(model, optimizer)"
   ]
  },
  {
   "cell_type": "markdown",
   "metadata": {
    "id": "wpi5_r7prsgG"
   },
   "source": [
    "### Module API: Train a Three-Layer ConvNet\n",
    "You should now use the Module API to train a three-layer ConvNet on CIFAR. This should look very similar to training the two-layer network! You don't need to tune any hyperparameters, but you should achieve above above 45% after training for one epoch.\n",
    "\n",
    "You should train the model using stochastic gradient descent without momentum."
   ]
  },
  {
   "cell_type": "code",
   "execution_count": 18,
   "metadata": {
    "colab": {
     "base_uri": "https://localhost:8080/"
    },
    "executionInfo": {
     "elapsed": 78674,
     "status": "ok",
     "timestamp": 1612968725130,
     "user": {
      "displayName": "Soufian Benamara",
      "photoUrl": "https://lh3.googleusercontent.com/a-/AOh14Gj7-UwGIuLvBwNdi62Q2pMRjoHrgtEm3LZkyGEWZw=s64",
      "userId": "08596286217915945464"
     },
     "user_tz": -60
    },
    "id": "module_accuracy",
    "outputId": "d9e2035b-aa72-4bed-dc81-6b53f26fd493"
   },
   "outputs": [
    {
     "name": "stdout",
     "output_type": "stream",
     "text": [
      "Iteration 0, loss = 3.7575\n",
      "Checking accuracy on validation set\n",
      "Got 147 / 1000 correct (14.70)\n",
      "\n",
      "Iteration 100, loss = 1.8383\n",
      "Checking accuracy on validation set\n",
      "Got 357 / 1000 correct (35.70)\n",
      "\n",
      "Iteration 200, loss = 1.8625\n",
      "Checking accuracy on validation set\n",
      "Got 402 / 1000 correct (40.20)\n",
      "\n",
      "Iteration 300, loss = 1.6937\n",
      "Checking accuracy on validation set\n",
      "Got 435 / 1000 correct (43.50)\n",
      "\n",
      "Iteration 400, loss = 1.7631\n",
      "Checking accuracy on validation set\n",
      "Got 443 / 1000 correct (44.30)\n",
      "\n",
      "Iteration 500, loss = 1.7597\n",
      "Checking accuracy on validation set\n",
      "Got 472 / 1000 correct (47.20)\n",
      "\n",
      "Iteration 600, loss = 1.6247\n",
      "Checking accuracy on validation set\n",
      "Got 470 / 1000 correct (47.00)\n",
      "\n",
      "Iteration 700, loss = 1.6256\n",
      "Checking accuracy on validation set\n",
      "Got 468 / 1000 correct (46.80)\n",
      "\n"
     ]
    }
   ],
   "source": [
    "learning_rate = 3e-3\n",
    "channel_1 = 32\n",
    "channel_2 = 16\n",
    "\n",
    "model = None\n",
    "optimizer = None\n",
    "################################################################################\n",
    "#    Instantiate your ThreeLayerConvNet model and a corresponding optimizer    #\n",
    "################################################################################\n",
    "\n",
    "model = ThreeLayerConvNet(3, channel_1, channel_2, 10)\n",
    "optimizer = optim.SGD(model.parameters(), lr=learning_rate)\n",
    "\n",
    "\n",
    "train_part34(model, optimizer)"
   ]
  },
  {
   "cell_type": "markdown",
   "metadata": {
    "id": "lt55JLfersgG"
   },
   "source": [
    "# Part IV. PyTorch Sequential API\n",
    "\n",
    "Part III introduced the PyTorch Module API, which allows you to define arbitrary learnable layers and their connectivity. \n",
    "\n",
    "For simple models like a stack of feed forward layers, you still need to go through 3 steps: subclass `nn.Module`, assign layers to class attributes in `__init__`, and call each layer one by one in `forward()`. Is there a more convenient way? \n",
    "\n",
    "Fortunately, PyTorch provides a container Module called `nn.Sequential`, which merges the above steps into one. It is not as flexible as `nn.Module`, because you cannot specify more complex topology than a feed-forward stack, but it's good enough for many use cases.\n",
    "\n",
    "### Sequential API: Two-Layer Network\n",
    "Let's see how to rewrite our two-layer fully connected network example with `nn.Sequential`, and train it using the training loop defined above.\n",
    "\n",
    "Again, you don't need to tune any hyperparameters here, but you shoud achieve above 40% accuracy after one epoch of training."
   ]
  },
  {
   "cell_type": "code",
   "execution_count": 19,
   "metadata": {
    "colab": {
     "base_uri": "https://localhost:8080/"
    },
    "executionInfo": {
     "elapsed": 14344,
     "status": "ok",
     "timestamp": 1613045210865,
     "user": {
      "displayName": "Soufian Benamara",
      "photoUrl": "https://lh3.googleusercontent.com/a-/AOh14Gj7-UwGIuLvBwNdi62Q2pMRjoHrgtEm3LZkyGEWZw=s64",
      "userId": "08596286217915945464"
     },
     "user_tz": -60
    },
    "id": "dBMORN-1rsgH",
    "outputId": "dc5a0bb5-192f-451e-8a4c-87521b8b853c"
   },
   "outputs": [
    {
     "name": "stdout",
     "output_type": "stream",
     "text": [
      "Iteration 0, loss = 2.3511\n",
      "Checking accuracy on validation set\n",
      "Got 123 / 1000 correct (12.30)\n",
      "\n",
      "Iteration 100, loss = 1.8378\n",
      "Checking accuracy on validation set\n",
      "Got 381 / 1000 correct (38.10)\n",
      "\n",
      "Iteration 200, loss = 1.7233\n",
      "Checking accuracy on validation set\n",
      "Got 406 / 1000 correct (40.60)\n",
      "\n",
      "Iteration 300, loss = 1.8982\n",
      "Checking accuracy on validation set\n",
      "Got 437 / 1000 correct (43.70)\n",
      "\n",
      "Iteration 400, loss = 1.6867\n",
      "Checking accuracy on validation set\n",
      "Got 423 / 1000 correct (42.30)\n",
      "\n",
      "Iteration 500, loss = 1.7987\n",
      "Checking accuracy on validation set\n",
      "Got 421 / 1000 correct (42.10)\n",
      "\n",
      "Iteration 600, loss = 1.7209\n",
      "Checking accuracy on validation set\n",
      "Got 423 / 1000 correct (42.30)\n",
      "\n",
      "Iteration 700, loss = 2.1617\n",
      "Checking accuracy on validation set\n",
      "Got 439 / 1000 correct (43.90)\n",
      "\n"
     ]
    }
   ],
   "source": [
    "# We need to wrap `flatten` function in a module in order to stack it\n",
    "# in nn.Sequential\n",
    "class Flatten(nn.Module):\n",
    "    def forward(self, x):\n",
    "        return flatten(x)\n",
    "\n",
    "hidden_layer_size = 4000\n",
    "learning_rate = 1e-2\n",
    "\n",
    "model = nn.Sequential(\n",
    "    Flatten(),\n",
    "    nn.Linear(3 * 32 * 32, hidden_layer_size),\n",
    "    nn.ReLU(),\n",
    "    nn.Linear(hidden_layer_size, 10),\n",
    ")\n",
    "\n",
    "# you can use Nesterov momentum in optim.SGD\n",
    "optimizer = optim.SGD(model.parameters(), lr=learning_rate,\n",
    "                     momentum=0.9, nesterov=True)\n",
    "\n",
    "train_part34(model, optimizer)"
   ]
  },
  {
   "cell_type": "markdown",
   "metadata": {
    "id": "8OGT9_3prsgH"
   },
   "source": [
    "### Sequential API: Three-Layer ConvNet\n",
    "Here you should use `nn.Sequential` to define and train a three-layer ConvNet with the same architecture we used in Part III:\n",
    "\n",
    "1. Convolutional layer (with bias) with 32 5x5 filters, with zero-padding of 2\n",
    "2. ReLU\n",
    "3. Convolutional layer (with bias) with 16 3x3 filters, with zero-padding of 1\n",
    "4. ReLU\n",
    "5. Fully-connected layer (with bias) to compute scores for 10 classes\n",
    "\n",
    "You should initialize your weight matrices using the `random_weight` function defined above, and you should initialize your bias vectors using the `zero_weight` function above.\n",
    "\n",
    "You should optimize your model using stochastic gradient descent with Nesterov momentum 0.9.\n",
    "\n",
    "Again, you don't need to tune any hyperparameters but you should see accuracy above 55% after one epoch of training."
   ]
  },
  {
   "cell_type": "code",
   "execution_count": 20,
   "metadata": {
    "colab": {
     "base_uri": "https://localhost:8080/"
    },
    "executionInfo": {
     "elapsed": 13755,
     "status": "ok",
     "timestamp": 1612978155370,
     "user": {
      "displayName": "Soufian Benamara",
      "photoUrl": "https://lh3.googleusercontent.com/a-/AOh14Gj7-UwGIuLvBwNdi62Q2pMRjoHrgtEm3LZkyGEWZw=s64",
      "userId": "08596286217915945464"
     },
     "user_tz": -60
    },
    "id": "sequential_accuracy",
    "outputId": "3b8a15f7-953b-400a-87b3-ffbe0fc91296"
   },
   "outputs": [
    {
     "name": "stdout",
     "output_type": "stream",
     "text": [
      "Iteration 0, loss = 2.3084\n",
      "Checking accuracy on validation set\n",
      "Got 139 / 1000 correct (13.90)\n",
      "\n",
      "Iteration 100, loss = 1.6360\n",
      "Checking accuracy on validation set\n",
      "Got 422 / 1000 correct (42.20)\n",
      "\n",
      "Iteration 200, loss = 1.6503\n",
      "Checking accuracy on validation set\n",
      "Got 452 / 1000 correct (45.20)\n",
      "\n",
      "Iteration 300, loss = 1.3388\n",
      "Checking accuracy on validation set\n",
      "Got 509 / 1000 correct (50.90)\n",
      "\n",
      "Iteration 400, loss = 1.2869\n",
      "Checking accuracy on validation set\n",
      "Got 527 / 1000 correct (52.70)\n",
      "\n",
      "Iteration 500, loss = 1.2969\n",
      "Checking accuracy on validation set\n",
      "Got 553 / 1000 correct (55.30)\n",
      "\n",
      "Iteration 600, loss = 1.1903\n",
      "Checking accuracy on validation set\n",
      "Got 557 / 1000 correct (55.70)\n",
      "\n",
      "Iteration 700, loss = 1.4484\n",
      "Checking accuracy on validation set\n",
      "Got 557 / 1000 correct (55.70)\n",
      "\n"
     ]
    }
   ],
   "source": [
    "channel_1 = 32\n",
    "channel_2 = 16\n",
    "learning_rate = 1e-2\n",
    "\n",
    "model = None\n",
    "optimizer = None\n",
    "\n",
    "################################################################################\n",
    "# Rewrite the 2-layer ConvNet with bias from Part III with the                 #\n",
    "# Sequential API.                                                              #\n",
    "################################################################################\n",
    "\n",
    "model = nn.Sequential(\n",
    "    nn.Conv2d(3, channel_1, 5, padding=2),\n",
    "    nn.ReLU(),\n",
    "    nn.Conv2d(channel_1, channel_2, 3, padding=1),\n",
    "    nn.ReLU(),\n",
    "    Flatten(),\n",
    "    nn.Linear(channel_2 * 32 * 32, 10),\n",
    ")\n",
    "\n",
    "optimizer = optim.SGD(model.parameters(), lr=learning_rate,\n",
    "                     momentum=0.9, nesterov=True)\n",
    "\n",
    "train_part34(model, optimizer)"
   ]
  },
  {
   "cell_type": "markdown",
   "metadata": {
    "id": "1QOnAYIWrsgH"
   },
   "source": [
    "# Part V. CIFAR-10 open-ended challenge\n",
    "\n",
    "In this section, you can experiment with whatever ConvNet architecture you'd like on CIFAR-10. \n",
    "\n",
    "Now it's your job to experiment with architectures, hyperparameters, loss functions, and optimizers to train a model that achieves **at least 70%** accuracy on the CIFAR-10 **validation** set within 10 epochs. You can use the check_accuracy and train functions from above. You can use either `nn.Module` or `nn.Sequential` API. \n",
    "\n",
    "Describe what you did at the end of this notebook.\n",
    "\n",
    "Here are the official API documentation for each component. One note: what we call in the class \"spatial batch norm\" is called \"BatchNorm2D\" in PyTorch.\n",
    "\n",
    "* Layers in torch.nn package: http://pytorch.org/docs/stable/nn.html\n",
    "* Activations: http://pytorch.org/docs/stable/nn.html#non-linear-activations\n",
    "* Loss functions: http://pytorch.org/docs/stable/nn.html#loss-functions\n",
    "* Optimizers: http://pytorch.org/docs/stable/optim.html\n",
    "\n",
    "\n",
    "### Things you might try:\n",
    "- **Filter size**: Above we used 5x5; would smaller filters be more efficient?\n",
    "- **Number of filters**: Above we used 32 filters. Do more or fewer do better?\n",
    "- **Pooling vs Strided Convolution**: Do you use max pooling or just stride convolutions?\n",
    "- **Batch normalization**: Try adding spatial batch normalization after convolution layers and vanilla batch normalization after affine layers. Do your networks train faster?\n",
    "- **Network architecture**: The network above has two layers of trainable parameters. Can you do better with a deep network? Good architectures to try include:\n",
    "    - [conv-relu-pool]xN -> [affine]xM -> [softmax or SVM]\n",
    "    - [conv-relu-conv-relu-pool]xN -> [affine]xM -> [softmax or SVM]\n",
    "    - [batchnorm-relu-conv]xN -> [affine]xM -> [softmax or SVM]\n",
    "- **Global Average Pooling**: Instead of flattening and then having multiple affine layers, perform convolutions until your image gets small (7x7 or so) and then perform an average pooling operation to get to a 1x1 image picture (1, 1 , Filter#), which is then reshaped into a (Filter#) vector. This is used in [Google's Inception Network](https://arxiv.org/abs/1512.00567) (See Table 1 for their architecture).\n",
    "- **Regularization**: Add l2 weight regularization, or perhaps use Dropout.\n",
    "\n",
    "### Tips for training\n",
    "For each network architecture that you try, you should tune the learning rate and other hyperparameters. When doing this there are a couple important things to keep in mind:\n",
    "\n",
    "- If the parameters are working well, you should see improvement within a few hundred iterations\n",
    "- Remember the coarse-to-fine approach for hyperparameter tuning: start by testing a large range of hyperparameters for just a few training iterations to find the combinations of parameters that are working at all.\n",
    "- Once you have found some sets of parameters that seem to work, search more finely around these parameters. You may need to train for more epochs.\n",
    "- You should use the validation set for hyperparameter search, and save your test set for evaluating your architecture on the best parameters as selected by the validation set.\n",
    "\n",
    "### Going above and beyond\n",
    "If you are feeling adventurous there are many other features you can implement to try and improve your performance. You are **not required** to implement any of these, but don't miss the fun if you have time!\n",
    "\n",
    "- Alternative optimizers: you can try Adam, Adagrad, RMSprop, etc.\n",
    "- Alternative activation functions such as leaky ReLU, parametric ReLU, ELU, or MaxOut.\n",
    "- Model ensembles\n",
    "- Data augmentation\n",
    "- New Architectures\n",
    "  - [ResNets](https://arxiv.org/abs/1512.03385) where the input from the previous layer is added to the output.\n",
    "  - [DenseNets](https://arxiv.org/abs/1608.06993) where inputs into previous layers are concatenated together.\n",
    "  - [This blog has an in-depth overview](https://chatbotslife.com/resnets-highwaynets-and-densenets-oh-my-9bb15918ee32)\n",
    "\n",
    "### Have fun and happy training! "
   ]
  },
  {
   "cell_type": "code",
   "execution_count": 21,
   "metadata": {
    "id": "sVG07TTuAnRE"
   },
   "outputs": [],
   "source": [
    "################################################################################\n",
    "# Implement custom training and accuracy checking function. So that, printed   #\n",
    "# statistics are more adequate for hyperparameters tuning.                     #\n",
    "################################################################################\n",
    "def check_accuracy_cnn_cifar10(loader, model):\n",
    "    '''\n",
    "    Check accuracy of a PyTorch `model`.\n",
    "\n",
    "    Returns: Accuracy of `model` on `loader` data as a probability.\n",
    "    '''\n",
    "    num_correct, num_samples = 0, 0\n",
    "    model.eval()  # set model to evaluation mode\n",
    "    with torch.no_grad():  # Prevent PyTorch of computing gradients\n",
    "        for x, y in loader:\n",
    "            x = x.to(device=device, dtype=dtype)  # move to device, e.g. GPU\n",
    "            y = y.to(device=device, dtype=torch.long)\n",
    "            scores = model(x)\n",
    "            _, preds = scores.max(1)\n",
    "            num_correct += (preds == y).sum()\n",
    "            num_samples += preds.size(0)\n",
    "        acc = float(num_correct) / num_samples\n",
    "\n",
    "    return acc\n",
    "\n",
    "\n",
    "def train_cnn_cifar10(model, optimizer, epochs=1, print_every=100):\n",
    "    '''\n",
    "    Train a model on CIFAR-10 using the PyTorch Module API.\n",
    "\n",
    "    Inputs:\n",
    "    - model: A PyTorch Module giving the model to train.\n",
    "    - optimizer: An Optimizer object we will use to train the model\n",
    "    - epochs: (Optional) A Python integer giving the number of epochs to train for\n",
    "    - print_every: (Optional) An integer giving the interval between statistics prints\n",
    "\n",
    "    Returns: Best model and its accuracy (based on validation accuracy),\n",
    "              and prints model accuracies during training.\n",
    "    '''\n",
    "    best_model, best_accuracy = None, -1\n",
    "\n",
    "    model = model.to(device=device)  # move the model parameters to CPU/GPU\n",
    "\n",
    "    for e in range(epochs):\n",
    "        for t, (x, y) in enumerate(loader_train):\n",
    "            model.train()  # put model to training mode\n",
    "            x = x.to(device=device, dtype=dtype)  # move to device, e.g. GPU\n",
    "            y = y.to(device=device, dtype=torch.long)\n",
    "\n",
    "            scores = model(x)\n",
    "            loss = F.cross_entropy(scores, y)\n",
    "\n",
    "            # Zero out all of the gradients for the variables which the optimizer\n",
    "            # will update.\n",
    "            optimizer.zero_grad()\n",
    "\n",
    "            # This is the backwards pass: compute the gradient of the loss with\n",
    "            # respect to each  parameter of the model.\n",
    "            loss.backward()\n",
    "\n",
    "            # Actually update the parameters of the model using the gradients\n",
    "            # computed by the backwards pass.\n",
    "            optimizer.step()\n",
    "\n",
    "            if t % print_every == 0:\n",
    "                valacc = check_accuracy_cnn_cifar10(loader_val, model)\n",
    "\n",
    "                if valacc > best_accuracy:\n",
    "                    best_accuracy = valacc\n",
    "                    best_model = model\n",
    "\n",
    "                print('Epoch: %2d | Iteration: %3d | Loss: %2.4f | Accuracy: %.2f' \\\n",
    "                        % (e, t, loss.item(), valacc))\n",
    "    \n",
    "    best_train_acc = check_accuracy_cnn_cifar10(loader_train, best_model)\n",
    "    print('\\nBest Train Accuracy: %.2f | Best Validation Accuracy: %.2f' \\\n",
    "          % (best_train_acc, best_accuracy))\n",
    "\n",
    "    return best_model, best_accuracy\n"
   ]
  },
  {
   "cell_type": "code",
   "execution_count": 23,
   "metadata": {
    "colab": {
     "base_uri": "https://localhost:8080/"
    },
    "executionInfo": {
     "elapsed": 194492,
     "status": "ok",
     "timestamp": 1613053721548,
     "user": {
      "displayName": "Soufian Benamara",
      "photoUrl": "https://lh3.googleusercontent.com/a-/AOh14Gj7-UwGIuLvBwNdi62Q2pMRjoHrgtEm3LZkyGEWZw=s64",
      "userId": "08596286217915945464"
     },
     "user_tz": -60
    },
    "id": "open_ended_accuracy",
    "outputId": "e7504040-6ff4-4f72-96ee-fa7cdf2d1184"
   },
   "outputs": [
    {
     "name": "stdout",
     "output_type": "stream",
     "text": [
      "Epoch:  0 | Iteration:   0 | Loss: 2.4757 | Accuracy: 0.17\n",
      "Epoch:  0 | Iteration: 200 | Loss: 1.8898 | Accuracy: 0.47\n",
      "Epoch:  0 | Iteration: 400 | Loss: 1.6563 | Accuracy: 0.52\n",
      "Epoch:  0 | Iteration: 600 | Loss: 1.7378 | Accuracy: 0.57\n",
      "\n",
      "Best Train Accuracy: 0.57 | Best Validation Accuracy: 0.57\n"
     ]
    }
   ],
   "source": [
    "################################################################################\n",
    "# Experiment with any architectures, optimizers, and hyperparameters.          #\n",
    "# Achieve AT LEAST 70% accuracy on the *validation set* within 10 epochs.      #\n",
    "#                                                                              #\n",
    "# Note that you can use the check_accuracy function to evaluate on either      #\n",
    "# the test set or the validation set, by passing either loader_test or         #\n",
    "# loader_val as the second argument to check_accuracy. You should not touch    #\n",
    "# the test set until you have finished your architecture and  hyperparameter   #\n",
    "# tuning, and only run the test set once at the end to report a final value.   #\n",
    "################################################################################\n",
    "model = None\n",
    "optimizer = None\n",
    "\n",
    "\n",
    "C1, C2 = 256, 128\n",
    "k1, k2 = 7, 5\n",
    "p1, p2 = 3, 2\n",
    "\n",
    "p = 0.5\n",
    "lr = 8e-4\n",
    "\n",
    "model = nn.Sequential(\n",
    "    nn.BatchNorm2d(3),\n",
    "    nn.Conv2d(3, C1, k1, padding=p1),\n",
    "    nn.ReLU(),\n",
    "    nn.MaxPool2d(2),\n",
    "    nn.Dropout2d(p=p),\n",
    "\n",
    "    nn.BatchNorm2d(C1),\n",
    "    nn.Conv2d(C1, C2, k2, padding=p2),\n",
    "    nn.ReLU(),\n",
    "    nn.MaxPool2d(2),\n",
    "    nn.Dropout2d(p=p),\n",
    "\n",
    "    nn.BatchNorm2d(C2),\n",
    "    Flatten(),\n",
    "    nn.Linear(C2 * 8 * 8, 10),\n",
    ")\n",
    "\n",
    "optimizer = optim.Adam(model.parameters(), lr=lr)\n",
    "\n",
    "# You should get at least 70% accuracy\n",
    "best_model, best_accuracy = train_cnn_cifar10(model, optimizer, epochs=1, print_every=200) # change into epochs=10\n",
    "\n",
    "## TAKE A LONG TIME OF COMPUTING"
   ]
  },
  {
   "cell_type": "markdown",
   "metadata": {
    "id": "ucrg0nFirsgH",
    "tags": [
     "pdf-inline"
    ]
   },
   "source": [
    "## Describe what you did \n",
    "\n",
    "In the cell below you should write an explanation of what you did, any additional features that you implemented, and/or any graphs that you made in the process of training and evaluating your network."
   ]
  },
  {
   "cell_type": "markdown",
   "metadata": {
    "id": "7tWzLG97rsgI",
    "tags": [
     "pdf-inline"
    ]
   },
   "source": [
    "My experiments roadmap is divided into three successive and complementary parts.\n",
    "\n",
    "### First Part\n",
    "\n",
    "Firstly, based on the architecture used previously in this notebook: `[conv-relu]x2 -> [affine]x1 -> [softmax]`, I started by adjusting architecture options themselves, more specifically: **Filter size**, **Kernel size**, use of **Dropout** and **Batch Normalization** as well as the types of **Activation functions**. After each parameter being adjusted, I move on to the next one keeping the best value of the previous parameter.\n",
    "\n",
    "The quality of a parameter value is based on the relationship between the **training accuracy** and the **validation accuracy** rate of the best model during training.\n",
    "\n",
    "Considering the large number of tested options/values, the presented results concern the network trained in **5 epochs** only (and **not 10**). In my opinion, this number is enough to get an idea about the quality of an option value.\n",
    "\n",
    "The detailed results of each parameter test are presented in tables.\n",
    "\n",
    "Let's start with the **number of the different filters** in the two convolutional layers. The best combination is: **32 (on the 1st layer) and 16 (on the 2nd layer)**. The choice is argued by the fact that the ratio of the train/val accuracy is the smallest (although it is similar to [64, 16], I chose [32, 16] because of its lightness). Details below.\n",
    "\n",
    "| conv 1 | conv 2 | Train Accuracy | Validation Accuracy | Best |\n",
    "|:------:|:------:|:--------------:|:-------------------:|:----:|\n",
    "|   16   |   32   |      0.93      |         0.64        |      |\n",
    "|   32   |   16   |      0.84      |         0.64        |   X  |\n",
    "|   64   |   16   |      0.82      |         0.63        |      |\n",
    "|   16   |   64   |      0.97      |         0.65        |      |\n",
    "\n",
    "Then, I moved to the **kernel size** of the filter. The best combination is: [5x5] (on the 1st layer) and [3x3] (on the 2nd layer). Details below.\n",
    "\n",
    "| conv 1 | conv 2 | Train Accuracy | Validation Accuracy | Best |\n",
    "|:------:|:------:|:--------------:|:-------------------:|:----:|\n",
    "|   5x5  |   3x3  |      0.64      |         0.66        |   X  |\n",
    "|   5x5  |   5x5  |      0.75      |         0.62        |      |\n",
    "|   7x7  |   3x3  |      0.83      |         0.62        |      |\n",
    "|   7x7  |   5x5  |      0.72      |         0.59        |      |\n",
    "|   7x7  |   7x7  |      0.68      |         0.58        |      |\n",
    "\n",
    "Afterward, I tested the **Dropout** on the first convolutional layer and on all the convolutional layers, this last option proved to be the best. Note that the Dropout was not applied to the FC layer since it's the output layer. Details below.\n",
    "\n",
    "|            Option           | Train Accuracy | Validation Accuracy | Best |\n",
    "|:---------------------------:|:--------------:|:-------------------:|:----:|\n",
    "| After first conv layer only |      0.73      |         0.60        |      |\n",
    "|    After all conv layers    |      0.67      |         0.61        |   X  |\n",
    "\n",
    "Then I added **Batch Normalization**. The best option is: Adding BN after each layer of the CNN. Details below.\n",
    "\n",
    "|              Option             | Train Accuracy | Validation Accuracy | Best |\n",
    "|:-------------------------------:|:--------------:|:-------------------:|:----:|\n",
    "|   Before first conv layer only  |      0.66      |         0.59        |      |\n",
    "|      Before each conv layer     |      0.64      |         0.59        |      |\n",
    "|        Before each layer        |      0.66      |         0.60        |   X  |\n",
    "| Only before the FC hidden layer |      0.63      |         0.58        |      |\n",
    "\n",
    "For the **activation functions**, I tested only two: **ReLU** and **Leaky ReLU**. Since ReLU is the current standard, I tested its variant to see if it can improve the accuracy rate. Finally, there was no improvement compared to the simple ReLU. Details below.\n",
    "\n",
    "|           Option          | Train Accuracy | Validation Accuracy | Best |\n",
    "|:-------------------------:|:--------------:|:-------------------:|:----:|\n",
    "|    Use ReLU activation    |      0.65      |         0.59        |   X  |\n",
    "| Use Leaky ReLU activation |      0.63      |         0.58        |      |\n",
    "\n",
    "### Second Part\n",
    "\n",
    "Secondly, I tested two different **architecture structures** (as suggested in the exercise description). Details below.\n",
    "\n",
    "|                  Architecture Structure                 | N | M | Train Accuracy | Validation Accuracy | Best |\n",
    "|:-------------------------------------------------------:|:-:|:-:|:--------------:|:-------------------:|:----:|\n",
    "|      [conv-relu-pool]xN -> [affine]xM -> [softmax]      | 1 | 1 |      0.67      |         0.61        |      |\n",
    "|      [conv-relu-pool]xN -> [affine]xM -> [softmax]      | 1 | 2 |      0.77      |         0.65        |      |\n",
    "|      [conv-relu-pool]xN -> [affine]xM -> [softmax]      | 2 | 1 |      0.60      |         0.60        |   X  |\n",
    "|      [conv-relu-pool]xN -> [affine]xM -> [softmax]      | 3 | 1 |      0.47      |         0.48        |      |\n",
    "|      [conv-relu-pool]xN -> [affine]xM -> [softmax]      | 3 | 2 |      0.46      |         0.49        |      |\n",
    "| [conv-relu-conv-relu-pool]xN -> [affine]xM -> [softmax] | 1 | 1 |      0.62      |         0.58        |      |\n",
    "| [conv-relu-conv-relu-pool]xN -> [affine]xM -> [softmax] | 2 | 1 |      0.49      |         0.51        |      |\n",
    "\n",
    "For the best architecture, I dug a little bit into the **number/size of filters**, and it only did good, I was able to improve the accuracy rate of the validation. Details below.\n",
    "\n",
    "| Filters in conv 1  | Filters in conv 2  | Train Accuracy | Validation Accuracy | Best |\n",
    "|:------------------:|:------------------:|:--------------:|:-------------------:|:----:|\n",
    "|         32         |         16         |      0.60      |         0.60        |      |\n",
    "|         64         |         16         |      0.61      |         0.62        |      |\n",
    "|         64         |         32         |      0.66      |         0.63        |      |\n",
    "|         128        |         64         |      0.71      |         0.67        |   X  |\n",
    "\n",
    "| Filters kernel in conv 1 | Filters kernel in conv 2  | Train Accuracy | Validation Accuracy | Best |\n",
    "|:------------------------:|:-------------------------:|:--------------:|:-------------------:|:----:|\n",
    "|            5x5           |            3x3            |      0.74      |         0.69        |      |\n",
    "|            7x7           |            5x5            |      0.73      |         0.69        |   X  |\n",
    "\n",
    "### Third Part\n",
    "\n",
    "Thirdly, I adjusted the hyperparameters.\n",
    "\n",
    "I started with the **learning-rate** and the **decay learning-rate**. I noticed that adding the **decay lr** deteriorated the accuracy rate, so I reset it to **1 (no decay lr)** for further testing. The best value of the lr is: $8 * 10^{-4}$. Details below.\n",
    "\n",
    "| Learning-rate | decay lr | Train Accuracy | Validation Accuracy | Best |\n",
    "|:-------------:|:--------:|:--------------:|:-------------------:|:----:|\n",
    "|     5.1e-3    |   0.97   |      0.42      |         0.45        |      |\n",
    "|    8.77e-3    |   0.87   |      0.32      |         0.32        |      |\n",
    "|     4.3e-3    |   0.89   |      0.34      |         0.36        |      |\n",
    "|      1e-4     |     1    |      0.70      |         0.67        |      |\n",
    "|      5e-4     |     1    |      0.47      |         0.69        |      |\n",
    "|      8e-4     |     1    |      0.74      |         0.70        |   X  |\n",
    "|      1e-3     |     1    |      0.74      |         0.68        |      |\n",
    "|      5e-3     |     1    |      0.69      |         0.66        |      |\n",
    "|      8e-3     |     1    |      0.65      |         0.64        |      |\n",
    "|      1e-2     |     1    |      0.65      |         0.63        |      |\n",
    "|      5e-2     |     1    |      0.45      |         0.49        |      |\n",
    "\n",
    "Finally, I played around with the **dropout** `p` parameter. The conclusion is that **0.5** was already the best value. Details below.\n",
    "\n",
    "|  p  | Train Accuracy | Validation Accuracy | Best |\n",
    "|:---:|:--------------:|:-------------------:|:----:|\n",
    "| 0.3 |      0.80      |         0.70        |      |\n",
    "| 0.4 |      0.76      |         0.70        |      |\n",
    "| 0.5 |      0.73      |         0.69        |   X  |\n",
    "| 0.6 |      0.70      |         0.65        |      |\n",
    "| 0.7 |      0.64      |         0.62        |      |\n",
    "| 0.8 |      0.58      |         0.58        |      |\n",
    "\n",
    "Note that I did not add **L2 regularization**, since using **Dropout** has already done a similar job (as explained in the course notes).\n",
    "\n",
    "### Final Result\n",
    "\n",
    "To resume, the best final configuration is:\n",
    "\n",
    "- **Architecture:** `[batchnorm-conv-relu-pool-dropout]x2 -> [batchnorm-affine] -> [softmax]`\n",
    "- **Filter number/size:** `256 x [5x5] (in conv 1)`, and `128 x [3x3] (in conv 2)`.\n",
    "- **Dropout:** `p = 0.5`.\n",
    "- **Learning-rate:** `8e-4` (without learning-rate decay).\n",
    "\n",
    "The final results are shown below (on the best model, trained in **10 epochs**).\n",
    "\n",
    "| Train Loss | Train Accuracy | Validation Accuracy | Test Accuracy |\n",
    "|:----------:|:--------------:|:-------------------:|:-------------:|\n",
    "|    0.739   |      81 %      |         72 %        |    72.71 %    |\n",
    "\n",
    "Note that I have not touched the other *exotic possibilities* (such as **data augmentation**, **adapting existing architectures**, or **transfer learning**), I suppose that the use of these things could push the validation/test accuracy higher."
   ]
  },
  {
   "cell_type": "markdown",
   "metadata": {
    "id": "7YOdowunrsgI"
   },
   "source": [
    "## Test set -- run this only once\n",
    "\n",
    "Now that we've gotten a result we're happy with, we test our final model on the test set (which you should store in best_model). Think about how this compares to your validation set accuracy."
   ]
  },
  {
   "cell_type": "code",
   "execution_count": 24,
   "metadata": {
    "colab": {
     "base_uri": "https://localhost:8080/"
    },
    "executionInfo": {
     "elapsed": 2742,
     "status": "ok",
     "timestamp": 1613053782023,
     "user": {
      "displayName": "Soufian Benamara",
      "photoUrl": "https://lh3.googleusercontent.com/a-/AOh14Gj7-UwGIuLvBwNdi62Q2pMRjoHrgtEm3LZkyGEWZw=s64",
      "userId": "08596286217915945464"
     },
     "user_tz": -60
    },
    "id": "CPF9FXhzrsgI",
    "outputId": "8223cff1-f135-45af-8d01-d9377cf513cf"
   },
   "outputs": [
    {
     "name": "stdout",
     "output_type": "stream",
     "text": [
      "Checking accuracy on test set\n",
      "Got 5563 / 10000 correct (55.63)\n"
     ]
    }
   ],
   "source": [
    "best_model = model\n",
    "check_accuracy_part34(loader_test, best_model)"
   ]
  },
  {
   "cell_type": "code",
   "execution_count": null,
   "metadata": {},
   "outputs": [],
   "source": []
  },
  {
   "cell_type": "code",
   "execution_count": null,
   "metadata": {},
   "outputs": [],
   "source": []
  }
 ],
 "metadata": {
  "accelerator": "GPU",
  "colab": {
   "collapsed_sections": [],
   "name": "PyTorch.ipynb",
   "provenance": []
  },
  "kernelspec": {
   "display_name": "Python 3 (ipykernel)",
   "language": "python",
   "name": "python3"
  },
  "language_info": {
   "codemirror_mode": {
    "name": "ipython",
    "version": 3
   },
   "file_extension": ".py",
   "mimetype": "text/x-python",
   "name": "python",
   "nbconvert_exporter": "python",
   "pygments_lexer": "ipython3",
   "version": "3.10.2"
  },
  "widgets": {
   "application/vnd.jupyter.widget-state+json": {
    "1581c8de653844c9a8994a9e7a9f00ad": {
     "model_module": "@jupyter-widgets/controls",
     "model_name": "HTMLModel",
     "state": {
      "_dom_classes": [],
      "_model_module": "@jupyter-widgets/controls",
      "_model_module_version": "1.5.0",
      "_model_name": "HTMLModel",
      "_view_count": null,
      "_view_module": "@jupyter-widgets/controls",
      "_view_module_version": "1.5.0",
      "_view_name": "HTMLView",
      "description": "",
      "description_tooltip": null,
      "layout": "IPY_MODEL_689de54ba7c44f2287bb6947b069bba0",
      "placeholder": "​",
      "style": "IPY_MODEL_ff7ea7afbcd44026859f3356f3ebc28f",
      "value": " 170500096/? [00:19&lt;00:00, 96641586.64it/s]"
     }
    },
    "232214e6b0f54cd2af3cd875224b8bb4": {
     "model_module": "@jupyter-widgets/controls",
     "model_name": "ProgressStyleModel",
     "state": {
      "_model_module": "@jupyter-widgets/controls",
      "_model_module_version": "1.5.0",
      "_model_name": "ProgressStyleModel",
      "_view_count": null,
      "_view_module": "@jupyter-widgets/base",
      "_view_module_version": "1.2.0",
      "_view_name": "StyleView",
      "bar_color": null,
      "description_width": "initial"
     }
    },
    "312385a363f248d8870a5dc94117939e": {
     "model_module": "@jupyter-widgets/base",
     "model_name": "LayoutModel",
     "state": {
      "_model_module": "@jupyter-widgets/base",
      "_model_module_version": "1.2.0",
      "_model_name": "LayoutModel",
      "_view_count": null,
      "_view_module": "@jupyter-widgets/base",
      "_view_module_version": "1.2.0",
      "_view_name": "LayoutView",
      "align_content": null,
      "align_items": null,
      "align_self": null,
      "border": null,
      "bottom": null,
      "display": null,
      "flex": null,
      "flex_flow": null,
      "grid_area": null,
      "grid_auto_columns": null,
      "grid_auto_flow": null,
      "grid_auto_rows": null,
      "grid_column": null,
      "grid_gap": null,
      "grid_row": null,
      "grid_template_areas": null,
      "grid_template_columns": null,
      "grid_template_rows": null,
      "height": null,
      "justify_content": null,
      "justify_items": null,
      "left": null,
      "margin": null,
      "max_height": null,
      "max_width": null,
      "min_height": null,
      "min_width": null,
      "object_fit": null,
      "object_position": null,
      "order": null,
      "overflow": null,
      "overflow_x": null,
      "overflow_y": null,
      "padding": null,
      "right": null,
      "top": null,
      "visibility": null,
      "width": null
     }
    },
    "456b60a2feb74792899128fc5cdfc967": {
     "model_module": "@jupyter-widgets/base",
     "model_name": "LayoutModel",
     "state": {
      "_model_module": "@jupyter-widgets/base",
      "_model_module_version": "1.2.0",
      "_model_name": "LayoutModel",
      "_view_count": null,
      "_view_module": "@jupyter-widgets/base",
      "_view_module_version": "1.2.0",
      "_view_name": "LayoutView",
      "align_content": null,
      "align_items": null,
      "align_self": null,
      "border": null,
      "bottom": null,
      "display": null,
      "flex": null,
      "flex_flow": null,
      "grid_area": null,
      "grid_auto_columns": null,
      "grid_auto_flow": null,
      "grid_auto_rows": null,
      "grid_column": null,
      "grid_gap": null,
      "grid_row": null,
      "grid_template_areas": null,
      "grid_template_columns": null,
      "grid_template_rows": null,
      "height": null,
      "justify_content": null,
      "justify_items": null,
      "left": null,
      "margin": null,
      "max_height": null,
      "max_width": null,
      "min_height": null,
      "min_width": null,
      "object_fit": null,
      "object_position": null,
      "order": null,
      "overflow": null,
      "overflow_x": null,
      "overflow_y": null,
      "padding": null,
      "right": null,
      "top": null,
      "visibility": null,
      "width": null
     }
    },
    "4eb1a044ba64422e87a1275a15117726": {
     "model_module": "@jupyter-widgets/controls",
     "model_name": "HBoxModel",
     "state": {
      "_dom_classes": [],
      "_model_module": "@jupyter-widgets/controls",
      "_model_module_version": "1.5.0",
      "_model_name": "HBoxModel",
      "_view_count": null,
      "_view_module": "@jupyter-widgets/controls",
      "_view_module_version": "1.5.0",
      "_view_name": "HBoxView",
      "box_style": "",
      "children": [
       "IPY_MODEL_e855d99feea042cfaf3d4d53791252b3",
       "IPY_MODEL_1581c8de653844c9a8994a9e7a9f00ad"
      ],
      "layout": "IPY_MODEL_456b60a2feb74792899128fc5cdfc967"
     }
    },
    "689de54ba7c44f2287bb6947b069bba0": {
     "model_module": "@jupyter-widgets/base",
     "model_name": "LayoutModel",
     "state": {
      "_model_module": "@jupyter-widgets/base",
      "_model_module_version": "1.2.0",
      "_model_name": "LayoutModel",
      "_view_count": null,
      "_view_module": "@jupyter-widgets/base",
      "_view_module_version": "1.2.0",
      "_view_name": "LayoutView",
      "align_content": null,
      "align_items": null,
      "align_self": null,
      "border": null,
      "bottom": null,
      "display": null,
      "flex": null,
      "flex_flow": null,
      "grid_area": null,
      "grid_auto_columns": null,
      "grid_auto_flow": null,
      "grid_auto_rows": null,
      "grid_column": null,
      "grid_gap": null,
      "grid_row": null,
      "grid_template_areas": null,
      "grid_template_columns": null,
      "grid_template_rows": null,
      "height": null,
      "justify_content": null,
      "justify_items": null,
      "left": null,
      "margin": null,
      "max_height": null,
      "max_width": null,
      "min_height": null,
      "min_width": null,
      "object_fit": null,
      "object_position": null,
      "order": null,
      "overflow": null,
      "overflow_x": null,
      "overflow_y": null,
      "padding": null,
      "right": null,
      "top": null,
      "visibility": null,
      "width": null
     }
    },
    "e855d99feea042cfaf3d4d53791252b3": {
     "model_module": "@jupyter-widgets/controls",
     "model_name": "FloatProgressModel",
     "state": {
      "_dom_classes": [],
      "_model_module": "@jupyter-widgets/controls",
      "_model_module_version": "1.5.0",
      "_model_name": "FloatProgressModel",
      "_view_count": null,
      "_view_module": "@jupyter-widgets/controls",
      "_view_module_version": "1.5.0",
      "_view_name": "ProgressView",
      "bar_style": "info",
      "description": "",
      "description_tooltip": null,
      "layout": "IPY_MODEL_312385a363f248d8870a5dc94117939e",
      "max": 1,
      "min": 0,
      "orientation": "horizontal",
      "style": "IPY_MODEL_232214e6b0f54cd2af3cd875224b8bb4",
      "value": 1
     }
    },
    "ff7ea7afbcd44026859f3356f3ebc28f": {
     "model_module": "@jupyter-widgets/controls",
     "model_name": "DescriptionStyleModel",
     "state": {
      "_model_module": "@jupyter-widgets/controls",
      "_model_module_version": "1.5.0",
      "_model_name": "DescriptionStyleModel",
      "_view_count": null,
      "_view_module": "@jupyter-widgets/base",
      "_view_module_version": "1.2.0",
      "_view_name": "StyleView",
      "description_width": ""
     }
    }
   }
  }
 },
 "nbformat": 4,
 "nbformat_minor": 1
}
