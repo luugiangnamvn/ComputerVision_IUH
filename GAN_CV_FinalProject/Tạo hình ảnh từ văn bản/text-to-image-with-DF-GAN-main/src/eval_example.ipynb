{
 "cells": [
  {
   "cell_type": "code",
   "execution_count": 1,
   "id": "satisfactory-beverage",
   "metadata": {},
   "outputs": [],
   "source": [
    "import os\n",
    "import sys"
   ]
  },
  {
   "cell_type": "code",
   "execution_count": 2,
   "id": "third-archive",
   "metadata": {},
   "outputs": [],
   "source": [
    "current_cwd = os.getcwd()\n",
    "src_path = '/'.join(current_cwd.split('/')[:-1])\n",
    "sys.path.append(src_path)"
   ]
  },
  {
   "cell_type": "code",
   "execution_count": 3,
   "id": "suburban-principal",
   "metadata": {},
   "outputs": [],
   "source": [
    "import numpy as np\n",
    "import torch\n",
    "\n",
    "from sample import sample, save_image\n",
    "from src.generator.model import Generator\n",
    "from src.text_encoder.model import RNNEncoder\n",
    "from utils import create_loader"
   ]
  },
  {
   "cell_type": "code",
   "execution_count": 4,
   "id": "spectacular-participation",
   "metadata": {},
   "outputs": [],
   "source": [
    "device = torch.device(\"cuda\" if torch.cuda.is_available() else \"cpu\")"
   ]
  },
  {
   "cell_type": "code",
   "execution_count": 5,
   "id": "associate-madness",
   "metadata": {},
   "outputs": [],
   "source": [
    "generator = Generator(n_channels=32, latent_dim=100).to(device)\n",
    "generator.load_state_dict(torch.load(\"../gen_weights/gen_epoch_310.pth\", map_location=device))\n",
    "generator = generator.eval()"
   ]
  },
  {
   "cell_type": "code",
   "execution_count": 6,
   "id": "atlantic-insertion",
   "metadata": {},
   "outputs": [
    {
     "name": "stdout",
     "output_type": "stream",
     "text": [
      "Total filenames: 11788\n",
      "Load captions from: ../data/captions.pickle\n",
      "Load file names from: ../data/test/filenames.pickle (2933)\n",
      "Dictionary size: 5450\n",
      "Embeddings number: 10\n"
     ]
    }
   ],
   "source": [
    "train_loader = create_loader(256, 24, \"../data\", \"test\")"
   ]
  },
  {
   "cell_type": "code",
   "execution_count": 7,
   "id": "bottom-concrete",
   "metadata": {},
   "outputs": [],
   "source": [
    "n_words = train_loader.dataset.n_words"
   ]
  },
  {
   "cell_type": "code",
   "execution_count": 8,
   "id": "worse-element",
   "metadata": {},
   "outputs": [
    {
     "name": "stderr",
     "output_type": "stream",
     "text": [
      "/Users/nikolajkarasov/.pyenv/versions/3.7.9/envs/python379/lib/python3.7/site-packages/torch/nn/modules/rnn.py:63: UserWarning: dropout option adds dropout after all but last recurrent layer, so non-zero dropout expects num_layers greater than 1, but got dropout=0.5 and num_layers=1\n",
      "  \"num_layers={}\".format(dropout, num_layers))\n"
     ]
    }
   ],
   "source": [
    "text_encoder = RNNEncoder.load(\"../text_encoder_weights/text_encoder200.pth\", n_words)\n",
    "text_encoder.to(device)\n",
    "\n",
    "for p in text_encoder.parameters():\n",
    "    p.requires_grad = False\n",
    "text_encoder = text_encoder.eval()"
   ]
  },
  {
   "cell_type": "code",
   "execution_count": 10,
   "id": "elegant-government",
   "metadata": {},
   "outputs": [],
   "source": [
    "%%time\n",
    "sample(generator, text_encoder, next(iter(train_loader)), \"../gen_images\")"
   ]
  },
  {
   "cell_type": "markdown",
   "id": "shared-pennsylvania",
   "metadata": {},
   "source": [
    "# Own birds"
   ]
  },
  {
   "cell_type": "code",
   "execution_count": 11,
   "id": "instant-climate",
   "metadata": {},
   "outputs": [],
   "source": [
    "dataset = train_loader.dataset"
   ]
  },
  {
   "cell_type": "code",
   "execution_count": 13,
   "id": "forced-cotton",
   "metadata": {},
   "outputs": [],
   "source": [
    "def gen_own_bird(word_caption, name):\n",
    "    codes = [dataset.word2code[w] for w in word_caption.lower().split()]\n",
    "    \n",
    "    caption = np.array(codes)\n",
    "    pad_caption = np.zeros((18, 1), dtype='int64')\n",
    "\n",
    "    if len(caption) <= 18:\n",
    "        pad_caption[:len(caption), 0] = caption\n",
    "        len_ = len(caption)\n",
    "    else:\n",
    "        indices = list(np.arange(len(caption)))\n",
    "        np.random.shuffle(indices)\n",
    "        pad_caption[:, 0] = caption[np.sort(indices[:18])]\n",
    "        len_ = 18\n",
    "\n",
    "    embed = text_encoder(torch.tensor(pad_caption).reshape(1, -1), torch.tensor([len_]))\n",
    "    batch_size = embed.shape[0]\n",
    "    noise = torch.randn(batch_size, 100).to(device)\n",
    "    img =  generator(noise, embed)\n",
    "    save_image(img[0].data.cpu().numpy(), \"../gen_images\", name)"
   ]
  },
  {
   "cell_type": "code",
   "execution_count": 22,
   "id": "laughing-miami",
   "metadata": {},
   "outputs": [],
   "source": [
    "caption = \"this green small bird\"\n",
    "gen_own_bird(caption, caption)"
   ]
  }
 ],
 "metadata": {
  "kernelspec": {
   "display_name": "Python 3 (ipykernel)",
   "language": "python",
   "name": "python3"
  },
  "language_info": {
   "codemirror_mode": {
    "name": "ipython",
    "version": 3
   },
   "file_extension": ".py",
   "mimetype": "text/x-python",
   "name": "python",
   "nbconvert_exporter": "python",
   "pygments_lexer": "ipython3",
   "version": "3.7.9"
  }
 },
 "nbformat": 4,
 "nbformat_minor": 5
}
