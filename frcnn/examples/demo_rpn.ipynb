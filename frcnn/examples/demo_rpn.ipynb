{
  "cells": [
    {
      "cell_type": "code",
      "execution_count": null,
      "metadata": {
        "id": "PmftgWlHOn-R"
      },
      "outputs": [],
      "source": [
        "import torchvision.transforms.functional as F\n",
        "\n",
        "from torchvision.io import read_image\n",
        "from torchvision.utils import draw_bounding_boxes\n",
        "from torchvision.models.detection import fasterrcnn_resnet50_fpn, FasterRCNN_ResNet50_FPN_Weights"
      ]
    },
    {
      "cell_type": "code",
      "execution_count": null,
      "metadata": {
        "colab": {
          "base_uri": "https://localhost:8080/"
        },
        "id": "-0IMjY98O-Io",
        "outputId": "6cfb5be9-4bf5-4307-e4c5-f5532e7d5e18"
      },
      "outputs": [],
      "source": [
        "weights = FasterRCNN_ResNet50_FPN_Weights.DEFAULT\n",
        "transforms = weights.transforms()\n",
        "\n",
        "model = fasterrcnn_resnet50_fpn(weights=weights, progress=False)\n",
        "model = model.eval()"
      ]
    },
    {
      "cell_type": "code",
      "execution_count": null,
      "metadata": {
        "colab": {
          "base_uri": "https://localhost:8080/",
          "height": 338
        },
        "id": "i4UKHRAEPIlW",
        "outputId": "2f14d0e6-a83e-4a8b-c66e-5771614a1c55"
      },
      "outputs": [],
      "source": [
        "image = read_image('0.jpg')\n",
        "F.to_pil_image(image)"
      ]
    },
    {
      "cell_type": "code",
      "execution_count": null,
      "metadata": {
        "id": "BcSH0N0KPT3W"
      },
      "outputs": [],
      "source": [
        "images = [transforms(image)]"
      ]
    },
    {
      "cell_type": "code",
      "execution_count": null,
      "metadata": {
        "id": "4DQ1fBm-PZJm"
      },
      "outputs": [],
      "source": [
        "outputs = model(images)"
      ]
    },
    {
      "cell_type": "code",
      "execution_count": null,
      "metadata": {
        "colab": {
          "base_uri": "https://localhost:8080/"
        },
        "id": "uNkwEITCPvD4",
        "outputId": "fcc467d7-97f8-4a6f-e33f-2c4bf29728a3"
      },
      "outputs": [],
      "source": [
        "outputs"
      ]
    },
    {
      "cell_type": "code",
      "execution_count": null,
      "metadata": {
        "id": "zsSt4nlhPaCW"
      },
      "outputs": [],
      "source": [
        "score_threshold = .8\n",
        "img_with_boxes = [\n",
        "    draw_bounding_boxes(image, boxes=output['boxes'][output['scores'] > score_threshold], width=4)\n",
        "    for output in outputs\n",
        "]"
      ]
    },
    {
      "cell_type": "code",
      "execution_count": null,
      "metadata": {
        "colab": {
          "base_uri": "https://localhost:8080/",
          "height": 338
        },
        "id": "OfR1H-xgP1UX",
        "outputId": "e8be5aaf-535f-4420-9b06-35a781662ed1"
      },
      "outputs": [],
      "source": [
        "F.to_pil_image(img_with_boxes[0])"
      ]
    },
    {
      "cell_type": "code",
      "execution_count": null,
      "metadata": {
        "id": "MDmU_BIDRSrd"
      },
      "outputs": [],
      "source": []
    }
  ],
  "metadata": {
    "colab": {
      "provenance": []
    },
    "kernelspec": {
      "display_name": "Python 3.10.6 64-bit",
      "language": "python",
      "name": "python3"
    },
    "language_info": {
      "codemirror_mode": {
        "name": "ipython",
        "version": 3
      },
      "file_extension": ".py",
      "mimetype": "text/x-python",
      "name": "python",
      "nbconvert_exporter": "python",
      "pygments_lexer": "ipython3",
      "version": "3.10.6"
    },
    "vscode": {
      "interpreter": {
        "hash": "b0fa6594d8f4cbf19f97940f81e996739fb7646882a419484c72d19e05852a7e"
      }
    }
  },
  "nbformat": 4,
  "nbformat_minor": 0
}
